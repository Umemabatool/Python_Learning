{
  "nbformat": 4,
  "nbformat_minor": 0,
  "metadata": {
    "colab": {
      "provenance": []
    },
    "kernelspec": {
      "name": "python3",
      "display_name": "Python 3"
    },
    "language_info": {
      "name": "python"
    }
  },
  "cells": [
    {
      "cell_type": "markdown",
      "source": [
        "#Operators in Python:\n",
        "are symbols or characters that perform specific actions on operands, such as variables or values. These actions include mathematical computations, logical operations, and comparisons. Operators allow you to manipulate and combine data in meaningful ways.\n",
        "\n",
        "Here are few commonly used types of operators in python:\n",
        "\n",
        "\n",
        "1.   **Arithmetic Operators:** These operators are used for mathematical calculations. They include addition (+), subtraction (-), multiplication (*), division (/), modulus (%), exponentiation (**), and floor division (//).\n",
        "\n",
        "\n"
      ],
      "metadata": {
        "id": "75jLzxhbMdyY"
      }
    },
    {
      "cell_type": "code",
      "source": [
        "x = 10\n",
        "y = 3\n",
        "\n",
        "# Addition\n",
        "result = x + y  # 13\n",
        "print(result)\n",
        "\n",
        "# Subtraction\n",
        "result = x - y  # 7\n",
        "print(result)\n",
        "\n",
        "# Multiplication\n",
        "result = x * y  # 30\n",
        "print(result)\n",
        "\n",
        "# Division\n",
        "result = x / y  # 3.3333333333333335\n",
        "print(result)\n",
        "\n",
        "# Modulus\n",
        "result = x % y  # 1\n",
        "print(result)\n",
        "\n",
        "# Exponentiation\n",
        "result = x ** y  # 1000\n",
        "print(result)\n",
        "\n",
        "# Floor Division\n",
        "result = x // y  # 3\n",
        "print(result)"
      ],
      "metadata": {
        "colab": {
          "base_uri": "https://localhost:8080/"
        },
        "id": "ov53oHEKOYly",
        "outputId": "ea73fd91-f5d4-4548-c90e-65224dedac35"
      },
      "execution_count": null,
      "outputs": [
        {
          "output_type": "stream",
          "name": "stdout",
          "text": [
            "13\n",
            "7\n",
            "30\n",
            "3.3333333333333335\n",
            "1\n",
            "1000\n",
            "3\n"
          ]
        }
      ]
    },
    {
      "cell_type": "markdown",
      "source": [
        "2. **Assignment Operators:** These operators are used to assign values to variables. They include the simple assignment operator (=) as well as compound assignment operators like +=, -=, *=, /=, %=, **=, and //=.\n",
        "\n"
      ],
      "metadata": {
        "id": "xSfINeB0QI-d"
      }
    },
    {
      "cell_type": "code",
      "source": [
        "x = 5\n",
        "\n",
        "# Simple assignment\n",
        "y = x  # y = 5\n",
        "print(y)\n",
        "\n",
        "# Compound assignment\n",
        "x += 3  # x = x + 3 (8)\n",
        "print(x)\n",
        "\n",
        "x -= 2  # x = x - 2 (6)\n",
        "print(x)\n",
        "\n",
        "x *= 4  # x = x * 4 (24)\n",
        "print(x)\n",
        "\n",
        "x /= 3  # x = x / 3 (8.0)\n",
        "print(x)\n",
        "\n",
        "x %= 5  # x = x % 5 (3.0)\n",
        "print(x)\n",
        "\n",
        "x **= 2  # x = x ** 2 (9.0)\n",
        "print(x)\n",
        "\n",
        "x //= 2  # x = x // 2 (4.0)\n",
        "print(x)"
      ],
      "metadata": {
        "colab": {
          "base_uri": "https://localhost:8080/"
        },
        "id": "AUEQNIYYQWmJ",
        "outputId": "090900c0-f229-4838-ab44-025f29c501ac"
      },
      "execution_count": null,
      "outputs": [
        {
          "output_type": "stream",
          "name": "stdout",
          "text": [
            "5\n",
            "8\n",
            "6\n",
            "24\n",
            "8.0\n",
            "3.0\n",
            "9.0\n",
            "4.0\n"
          ]
        }
      ]
    },
    {
      "cell_type": "markdown",
      "source": [
        " 3. **Comparison Operators:** These operators compare two values and return a Boolean result (True or False). They include == (equal to), != (not equal to), < (less than), > (greater than), <= (less than or equal to), and >= (greater than or equal to).\n"
      ],
      "metadata": {
        "id": "6MiL6IdWQ4G0"
      }
    },
    {
      "cell_type": "code",
      "source": [
        "x = 10\n",
        "y = 5\n",
        "\n",
        "# Equal to\n",
        "result = x == y  # False\n",
        "print(result)\n",
        "\n",
        "# Not equal to\n",
        "result = x != y  # True\n",
        "print(result)\n",
        "\n",
        "# Less than\n",
        "result = x < y  # False\n",
        "print(result)\n",
        "\n",
        "# Greater than\n",
        "result = x > y  # True\n",
        "print(result)\n",
        "\n",
        "# Less than or equal to\n",
        "result = x <= y  # False\n",
        "print(result)\n",
        "\n",
        "# Greater than or equal to\n",
        "result = x >= y  # True\n",
        "print(result)"
      ],
      "metadata": {
        "id": "TkGX9WGiRVyW",
        "colab": {
          "base_uri": "https://localhost:8080/"
        },
        "outputId": "47a5360e-05fc-4f8f-a5e8-aa6db440e4d4"
      },
      "execution_count": null,
      "outputs": [
        {
          "output_type": "stream",
          "name": "stdout",
          "text": [
            "False\n",
            "True\n",
            "False\n",
            "True\n",
            "False\n",
            "True\n"
          ]
        }
      ]
    },
    {
      "cell_type": "markdown",
      "source": [
        "4.   **Logical Operators:** These operators perform logical operations on Boolean values. They include and (logical AND), or (logical OR), and not (logical NOT).\n",
        "\n"
      ],
      "metadata": {
        "id": "UJs6wDAvYDYN"
      }
    },
    {
      "cell_type": "code",
      "source": [
        "x = True\n",
        "y = False\n",
        "\n",
        "# Logical AND\n",
        "result = x and y  # False\n",
        "print(result)\n",
        "\n",
        "# Logical OR\n",
        "result = x or y  # True\n",
        "print(result)\n",
        "\n",
        "# Logical NOT\n",
        "result = not x  # False\n",
        "print(result)"
      ],
      "metadata": {
        "colab": {
          "base_uri": "https://localhost:8080/"
        },
        "id": "OvSvlHKMYPW8",
        "outputId": "db1d8369-24ae-49c3-c788-f4b68e8e138d"
      },
      "execution_count": null,
      "outputs": [
        {
          "output_type": "stream",
          "name": "stdout",
          "text": [
            "False\n",
            "True\n",
            "False\n"
          ]
        }
      ]
    },
    {
      "cell_type": "markdown",
      "source": [
        "5.  **Bitwise Operators:** These operators perform operations on binary representations of numbers. They include bitwise AND (&), bitwise OR (|), bitwise XOR (^), bitwise complement (~), left shift (<<), and right shift (>>).\n",
        "\n",
        "\n"
      ],
      "metadata": {
        "id": "LyjfxKc3ZTov"
      }
    },
    {
      "cell_type": "code",
      "source": [
        "x = 5\n",
        "y = 3\n",
        "\n",
        "# Bitwise AND\n",
        "result = x & y  # 1\n",
        "print(result)\n",
        "\n",
        "# Bitwise OR\n",
        "result = x | y  # 7\n",
        "print(result)\n",
        "\n",
        "# Bitwise XOR\n",
        "result = x ^ y  # 6\n",
        "print(result)\n",
        "\n",
        "# Bitwise complement\n",
        "result = ~x  # -6\n",
        "print(result)\n",
        "\n",
        "# Left shift\n",
        "result = x << 2  # 20\n",
        "print(result)\n",
        "\n",
        "# Right shift\n",
        "result = x >> 1  # 2\n",
        "print(result)"
      ],
      "metadata": {
        "colab": {
          "base_uri": "https://localhost:8080/"
        },
        "id": "TzhWPEkfZkHp",
        "outputId": "2ab1dc74-2225-447a-be03-ed9d556b2081"
      },
      "execution_count": null,
      "outputs": [
        {
          "output_type": "stream",
          "name": "stdout",
          "text": [
            "1\n",
            "7\n",
            "6\n",
            "-6\n",
            "20\n",
            "2\n"
          ]
        }
      ]
    },
    {
      "cell_type": "markdown",
      "source": [
        "##Input Statment in Python:\n",
        "In python \"input()\" function use to accept user input from the keyboard.\n",
        "\n",
        "**For Example:**\n"
      ],
      "metadata": {
        "id": "SnziYG4mj7Ar"
      }
    },
    {
      "cell_type": "code",
      "source": [
        "# Prompt for user to enter their name\n",
        "name = input(\"Enter your name: \")\n",
        "\n",
        "# Prompt for user to enter their age\n",
        "age = int(input(\"Enter your age: \"))  # Convert input to an integer\n",
        "\n",
        "# Prompt for user to enter their favorite color\n",
        "color = input(\"Enter your favorite color: \")\n",
        "\n",
        "# Display the user's information\n",
        "print(\"\\nName:\", name)\n",
        "print(\"Age:\", age)\n",
        "print(\"Favorite Color:\", color)\n"
      ],
      "metadata": {
        "colab": {
          "base_uri": "https://localhost:8080/"
        },
        "id": "1pHboThLkVdE",
        "outputId": "4d0b19b3-d8d7-48f7-8553-3319f4716c24"
      },
      "execution_count": 3,
      "outputs": [
        {
          "output_type": "stream",
          "name": "stdout",
          "text": [
            "Enter your name: Umema\n",
            "Enter your age: 21\n",
            "Enter your favorite color: Blue\n",
            "\n",
            "Name: Umema\n",
            "Age: 21\n",
            "Favorite Color: Blue\n"
          ]
        }
      ]
    },
    {
      "cell_type": "markdown",
      "source": [
        "**A basic Calculator program which performs some functions on 2 numbers given by the user.**"
      ],
      "metadata": {
        "id": "Cq7rdknMk9zS"
      }
    },
    {
      "cell_type": "code",
      "source": [
        "# Calculator Program\n",
        "\n",
        "# Addition\n",
        "def add(x, y):\n",
        "    return x + y\n",
        "\n",
        "# Subtraction\n",
        "def subtract(x, y):\n",
        "    return x - y\n",
        "\n",
        "# Multiplication\n",
        "def multiply(x, y):\n",
        "    return x * y\n",
        "\n",
        "# Division\n",
        "def divide(x, y):\n",
        "    return x / y\n",
        "\n",
        "# Modulus\n",
        "def modulus(x, y):\n",
        "    return x % y\n",
        "\n",
        "# Exponentiation\n",
        "def exponentiate(x, y):\n",
        "    return x ** y\n",
        "\n",
        "# Floor Division\n",
        "def floor_divide(x, y):\n",
        "    return x // y\n",
        "\n",
        "# User input\n",
        "num1 = float(input(\"Enter the first number: \"))\n",
        "num2 = float(input(\"Enter the second number: \"))\n",
        "\n",
        "# Perform calculations\n",
        "print(\"Addition:\", add(num1, num2))\n",
        "print(\"Subtraction:\", subtract(num1, num2))\n",
        "print(\"Multiplication:\", multiply(num1, num2))\n",
        "print(\"Division:\", divide(num1, num2))\n",
        "print(\"Modulus:\", modulus(num1, num2))\n",
        "print(\"Exponentiation:\", exponentiate(num1, num2))\n",
        "print(\"Floor Division:\", floor_divide(num1, num2))"
      ],
      "metadata": {
        "id": "6igS6MpycLQi",
        "colab": {
          "base_uri": "https://localhost:8080/"
        },
        "outputId": "ac433a60-7a66-4862-d499-d90dd4f6cf4d"
      },
      "execution_count": 1,
      "outputs": [
        {
          "output_type": "stream",
          "name": "stdout",
          "text": [
            "Enter the first number: 3\n",
            "Enter the second number: 4\n",
            "Addition: 7.0\n",
            "Subtraction: -1.0\n",
            "Multiplication: 12.0\n",
            "Division: 0.75\n",
            "Modulus: 3.0\n",
            "Exponentiation: 81.0\n",
            "Floor Division: 0.0\n"
          ]
        }
      ]
    },
    {
      "cell_type": "markdown",
      "source": [
        "##Typecasting:\n",
        "also known as type conversion, refers to the process of converting the data type of a value from one type to another in Python.\n",
        "\n",
        "There are two types of typecasting:\n",
        "1.   implicit typecasting (automatic)\n",
        "2.   explicit typecasting (manual).\n",
        "\n",
        "1- **Implicit Typecasting:** also known as automatic typecasting, occurs when Python automatically converts the data type of a value during an operation."
      ],
      "metadata": {
        "id": "SPJUrdE_q73l"
      }
    },
    {
      "cell_type": "code",
      "source": [
        "x = 10\n",
        "y = 3.5\n",
        "\n",
        "# Implicit typecasting during addition\n",
        "result = x + y  # The integer value 10 is implicitly converted to a float value 10.0\n",
        "print(result)  # Output: 13.5\n"
      ],
      "metadata": {
        "colab": {
          "base_uri": "https://localhost:8080/"
        },
        "id": "YX8Khlckrqdp",
        "outputId": "ce4a1946-ec5c-4221-a15e-be8479bc3b79"
      },
      "execution_count": 4,
      "outputs": [
        {
          "output_type": "stream",
          "name": "stdout",
          "text": [
            "13.5\n"
          ]
        }
      ]
    },
    {
      "cell_type": "markdown",
      "source": [
        "2- **Explicit Typecasting:** also known as manual typecasting or type conversion, occurs when the programmer manually converts the data type of a value using specific functions or constructors."
      ],
      "metadata": {
        "id": "N8x3ZR_Vr-P0"
      }
    },
    {
      "cell_type": "code",
      "source": [
        "x = 10\n",
        "y = \"5\"\n",
        "\n",
        "# Explicit typecasting from string to integer\n",
        "result = x + int(y)  # The string value \"5\" is explicitly converted to an integer value 5\n",
        "print(result)  # Output: 15\n"
      ],
      "metadata": {
        "colab": {
          "base_uri": "https://localhost:8080/"
        },
        "id": "SyPLSftcsHj5",
        "outputId": "bf4dc9a6-3482-4a58-e36a-c95c9050e8f9"
      },
      "execution_count": 5,
      "outputs": [
        {
          "output_type": "stream",
          "name": "stdout",
          "text": [
            "15\n"
          ]
        }
      ]
    }
  ]
}