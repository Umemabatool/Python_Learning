{
  "nbformat": 4,
  "nbformat_minor": 0,
  "metadata": {
    "colab": {
      "provenance": []
    },
    "kernelspec": {
      "name": "python3",
      "display_name": "Python 3"
    },
    "language_info": {
      "name": "python"
    }
  },
  "cells": [
    {
      "cell_type": "markdown",
      "source": [
        "#Strings in Python\n",
        "are a type of data that represents a sequence of characters. They are enclosed in either single quotes ('') or double quotes (\"\") and can include alphanumeric characters, symbols, and spaces."
      ],
      "metadata": {
        "id": "bew_yah4uwds"
      }
    },
    {
      "cell_type": "code",
      "source": [
        "#String with double quotes\n",
        "# Assigning a String\n",
        "message = \"Hello, World!\"\n",
        "\n",
        "# Printing the string\n",
        "print(message)  # Output: Hello, World!\n",
        "\n",
        "#String with single quotes\n",
        "# Assigning a String\n",
        "message = 'Hello, World!'\n",
        "\n",
        "# Printing the string\n",
        "print(message)  # Output: Hello, World!"
      ],
      "metadata": {
        "colab": {
          "base_uri": "https://localhost:8080/"
        },
        "id": "FKqYJkO5vk1D",
        "outputId": "7446ddb9-76d6-4f0c-831f-d8d58ab02d62"
      },
      "execution_count": 1,
      "outputs": [
        {
          "output_type": "stream",
          "name": "stdout",
          "text": [
            "Hello, World!\n",
            "Hello, World!\n"
          ]
        }
      ]
    },
    {
      "cell_type": "markdown",
      "source": [
        "**Multiline strings:** In pyhton multiline strings are used to represent text that spans multiple lines. They are enclosed in triple quotes (either triple single quotes ''' or triple double quotes \"\"\") to indicate the start and end of the multiline string. Multiline strings are often used for documentation, writing lengthy string literals, or preserving the formatting of the text."
      ],
      "metadata": {
        "id": "Q93mIXYWwPi7"
      }
    },
    {
      "cell_type": "code",
      "source": [
        "#Assigning a Multiline string\n",
        "text = '''This is a\n",
        "multiline string\n",
        "example.'''\n",
        "\n",
        "# Printing the multiline string\n",
        "print(text)\n"
      ],
      "metadata": {
        "colab": {
          "base_uri": "https://localhost:8080/"
        },
        "id": "Z7YOdPpUwfVm",
        "outputId": "3b6dd2b1-fe6e-4ab8-8748-b8693b16a285"
      },
      "execution_count": 2,
      "outputs": [
        {
          "output_type": "stream",
          "name": "stdout",
          "text": [
            "This is a\n",
            "multiline string\n",
            "example.\n"
          ]
        }
      ]
    },
    {
      "cell_type": "markdown",
      "source": [
        "**Strings in Python are immutable, which means they cannot be changed once created.** However, we can perform various operations on strings, such as concatenation, slicing, and formatting, to manipulate and extract information from them.\n",
        "\n",
        "1.   **String Concatenation:**\n",
        "is the process of combining multiple strings together into a single string. In Python, with the help of \"+\" operator to concatenate strings. We can concatenate strings with other data types also such as integer and float.\n",
        "\n"
      ],
      "metadata": {
        "id": "d-JXnFy2ycsZ"
      }
    },
    {
      "cell_type": "code",
      "source": [
        "# String concatenation\n",
        "greeting = \"Hello\"\n",
        "name = \"Umema\"\n",
        "message = greeting + \" \" + name\n",
        "print(message)  # Output: Hello Alice\n",
        "\n",
        "# String concatenation with integers and floats\n",
        "name = \"Umema\"\n",
        "age = 21\n",
        "height = 1.75\n",
        "\n",
        "# Concatenating strings with integer and float values\n",
        "message = \"My name is \" + name + \", and I am \" + str(age) + \" years old.\"\n",
        "measurement = \"My height is \" + str(height) + \" meters.\"\n",
        "\n",
        "# Printing the concatenated strings\n",
        "print(message)\n",
        "print(measurement)\n",
        "\n"
      ],
      "metadata": {
        "colab": {
          "base_uri": "https://localhost:8080/"
        },
        "id": "UEux8DoZz3ot",
        "outputId": "ba58d6cf-fd59-408f-e98d-8e24a4c01576"
      },
      "execution_count": 3,
      "outputs": [
        {
          "output_type": "stream",
          "name": "stdout",
          "text": [
            "Hello Umema\n",
            "My name is Umema, and I am 21 years old.\n",
            "My height is 1.75 meters.\n"
          ]
        }
      ]
    },
    {
      "cell_type": "markdown",
      "source": [
        "\n",
        "\n",
        "2.  **String Slicing:**\n",
        "it allows us to extract a portion of a string by specifying a range of indices. It is done using square brackets [] and the colon : operator.\n",
        "\n",
        "It works like [3:4] from 3 to 4 means inclding 1st number but not last.\n",
        "\n",
        "\n"
      ],
      "metadata": {
        "id": "UR3JqQCf2Dac"
      }
    },
    {
      "cell_type": "code",
      "source": [
        "word = \"Python\"\n",
        "print(word[0])      # Output: P\n",
        "print(word[2:5])    # Output: tho\n",
        "print(word[1:4])    # Output: yth"
      ],
      "metadata": {
        "colab": {
          "base_uri": "https://localhost:8080/"
        },
        "id": "xh8SPUFs2TFs",
        "outputId": "f71a6fc1-3ba2-421b-e8de-4e5b8b163387"
      },
      "execution_count": 5,
      "outputs": [
        {
          "output_type": "stream",
          "name": "stdout",
          "text": [
            "P\n",
            "tho\n",
            "yth\n"
          ]
        }
      ]
    },
    {
      "cell_type": "markdown",
      "source": [
        "3.   **Negative Slicing:**\n",
        "it allows us to extract a portion of a string by counting indices from the end of the string. The index -1 represents the last character of the string.\n",
        "or simply it couns as (length string - the number containing minius sing times)\n",
        "like: (len.word)-x\n"
      ],
      "metadata": {
        "id": "dojlmaPf6Wda"
      }
    },
    {
      "cell_type": "code",
      "source": [
        "word = \"Python\"\n",
        "print(word[-1])     # Output: n\n",
        "print(word[-4:-1])  # Output: tho"
      ],
      "metadata": {
        "colab": {
          "base_uri": "https://localhost:8080/"
        },
        "id": "KUBfEuOH66cC",
        "outputId": "7ee89309-84dd-46a3-cbad-a7d5b24249f9"
      },
      "execution_count": 6,
      "outputs": [
        {
          "output_type": "stream",
          "name": "stdout",
          "text": [
            "n\n",
            "tho\n"
          ]
        }
      ]
    },
    {
      "cell_type": "markdown",
      "source": [
        "##String methods in Python:\n",
        "are built-in functions that are used to perform various operations and manipulations on strings. These methods allow you to modify, search, extract, and transform strings. Here are some commonly used string methods in Python:\n",
        "\n",
        "* **len() method:**\n",
        "   The len() method returns the length of a string, which represents the number of characters in the string."
      ],
      "metadata": {
        "id": "o-U_xDsj9Vpx"
      }
    },
    {
      "cell_type": "code",
      "source": [
        "text = \"Hello, World!\"\n",
        "length = len(text)\n",
        "print(length)  # Output: 13"
      ],
      "metadata": {
        "colab": {
          "base_uri": "https://localhost:8080/"
        },
        "id": "lw0W2zyQD0wm",
        "outputId": "07be8493-f839-433d-cd77-811255c6c866"
      },
      "execution_count": 7,
      "outputs": [
        {
          "output_type": "stream",
          "name": "stdout",
          "text": [
            "13\n"
          ]
        }
      ]
    },
    {
      "cell_type": "markdown",
      "source": [
        "* **lower() and upper() methods:**\n",
        "The lower() method converts all characters in a string to lowercase, while the upper() method converts them to uppercase."
      ],
      "metadata": {
        "id": "Exx5FUTdD_1k"
      }
    },
    {
      "cell_type": "code",
      "source": [
        "text = \"Hello, World!\"\n",
        "lowercase = text.lower()\n",
        "uppercase = text.upper()\n",
        "print(lowercase)  # Output: hello, world!\n",
        "print(uppercase)  # Output: HELLO, WORLD!\n"
      ],
      "metadata": {
        "colab": {
          "base_uri": "https://localhost:8080/"
        },
        "id": "7T257KywEjQ7",
        "outputId": "4375ecc1-e69b-46c1-984c-c01ffd28c6c3"
      },
      "execution_count": 8,
      "outputs": [
        {
          "output_type": "stream",
          "name": "stdout",
          "text": [
            "hello, world!\n",
            "HELLO, WORLD!\n"
          ]
        }
      ]
    },
    {
      "cell_type": "markdown",
      "source": [
        "* **strip() method:**\n",
        "The strip() method removes leading and trailing whitespace characters from a string."
      ],
      "metadata": {
        "id": "YLpfo3qxEylJ"
      }
    },
    {
      "cell_type": "code",
      "source": [
        "text = \"   Hello, World!   \"\n",
        "text1 = \"   Hello,       World!   \"\n",
        "stripped = text.strip()\n",
        "stripped1 = text1.strip()\n",
        "print(stripped)  # Output: Hello, World!\n",
        "print(stripped1)  # Output: Hello,        World!"
      ],
      "metadata": {
        "colab": {
          "base_uri": "https://localhost:8080/"
        },
        "id": "uedCy1XUFJ34",
        "outputId": "ea2cd824-b409-40f7-d3e7-0327d553d888"
      },
      "execution_count": 11,
      "outputs": [
        {
          "output_type": "stream",
          "name": "stdout",
          "text": [
            "Hello, World!\n",
            "Hello,       World!\n"
          ]
        }
      ]
    },
    {
      "cell_type": "markdown",
      "source": [
        "* **split() method:**\n",
        "The split() method splits a string into a list of substrings based on a specified separator. By default, the separator is a space."
      ],
      "metadata": {
        "id": "DroWK-h0Fmv-"
      }
    },
    {
      "cell_type": "code",
      "source": [
        "text = \"Hello, World!\"\n",
        "words = text.split()\n",
        "print(words)  # Output: ['Hello,', 'World!']\n"
      ],
      "metadata": {
        "colab": {
          "base_uri": "https://localhost:8080/"
        },
        "id": "pMWEqPT9FwJj",
        "outputId": "4b7734e8-8eee-4c47-e961-179a7f96ff54"
      },
      "execution_count": 12,
      "outputs": [
        {
          "output_type": "stream",
          "name": "stdout",
          "text": [
            "['Hello,', 'World!']\n"
          ]
        }
      ]
    },
    {
      "cell_type": "markdown",
      "source": [
        "* **replace() method:**\n",
        "The replace() method replaces a specified substring with another substring in a string."
      ],
      "metadata": {
        "id": "LZn3GKxOF9Fi"
      }
    },
    {
      "cell_type": "code",
      "source": [
        "text = \"Hello, World!\"\n",
        "replaced = text.replace(\"Hello\", \"Hi\")\n",
        "print(replaced)  # Output: Hi, World!"
      ],
      "metadata": {
        "colab": {
          "base_uri": "https://localhost:8080/"
        },
        "id": "E7XMB5VmGEZf",
        "outputId": "55880a6c-5600-4e1e-fba5-3bd26f4a76ff"
      },
      "execution_count": 13,
      "outputs": [
        {
          "output_type": "stream",
          "name": "stdout",
          "text": [
            "Hi, World!\n"
          ]
        }
      ]
    },
    {
      "cell_type": "markdown",
      "source": [
        "* **find() method:**\n",
        "The find() method searches for the first occurrence of a substring within a string and returns its index if not then returns -1.\n",
        "*  **index() method:**The index() method works similarly but raises an exception if the substring is not found."
      ],
      "metadata": {
        "id": "DWSbOQydHmY7"
      }
    },
    {
      "cell_type": "code",
      "source": [
        "text = \"Hello, World!\"\n",
        "\n",
        "# Find the index of the substring \"World\"\n",
        "result = text.find(\"World\")\n",
        "print(result)\n",
        "\n",
        "# Find the index of the substring \"Universe\" (returns -1 if not found)\n",
        "result = text.find(\"Universe\")\n",
        "print(result)  # Output: -1\n",
        "\n",
        "# Get the index of the substring \"World\" using index() method (raises an exception if not found)\n",
        "result = text.index(\"World\")\n",
        "print(result)\n",
        "\n",
        "# Get the index of the substring \"Universe\" using index() method (raises ValueError)\n",
        "result = text.index(\"Universe\")  # Raises ValueError: substring not found\n"
      ],
      "metadata": {
        "colab": {
          "base_uri": "https://localhost:8080/",
          "height": 252
        },
        "id": "gma83KZYITQr",
        "outputId": "046a033e-3dde-4ba6-c45b-dcc6e8128f4a"
      },
      "execution_count": 18,
      "outputs": [
        {
          "output_type": "stream",
          "name": "stdout",
          "text": [
            "7\n",
            "-1\n",
            "7\n"
          ]
        },
        {
          "output_type": "error",
          "ename": "ValueError",
          "evalue": "ignored",
          "traceback": [
            "\u001b[0;31m---------------------------------------------------------------------------\u001b[0m",
            "\u001b[0;31mValueError\u001b[0m                                Traceback (most recent call last)",
            "\u001b[0;32m<ipython-input-18-e12876917fe8>\u001b[0m in \u001b[0;36m<cell line: 16>\u001b[0;34m()\u001b[0m\n\u001b[1;32m     14\u001b[0m \u001b[0;34m\u001b[0m\u001b[0m\n\u001b[1;32m     15\u001b[0m \u001b[0;31m# Get the index of the substring \"Universe\" using index() method (raises ValueError)\u001b[0m\u001b[0;34m\u001b[0m\u001b[0;34m\u001b[0m\u001b[0m\n\u001b[0;32m---> 16\u001b[0;31m \u001b[0mresult\u001b[0m \u001b[0;34m=\u001b[0m \u001b[0mtext\u001b[0m\u001b[0;34m.\u001b[0m\u001b[0mindex\u001b[0m\u001b[0;34m(\u001b[0m\u001b[0;34m\"Universe\"\u001b[0m\u001b[0;34m)\u001b[0m  \u001b[0;31m# Raises ValueError: substring not found\u001b[0m\u001b[0;34m\u001b[0m\u001b[0;34m\u001b[0m\u001b[0m\n\u001b[0m",
            "\u001b[0;31mValueError\u001b[0m: substring not found"
          ]
        }
      ]
    },
    {
      "cell_type": "markdown",
      "source": [
        "* **startswith() method:**\n",
        "The startswith() method checks if a string starts with a specified prefix.\n",
        "*  **endswith() methods:**The endswith() method checks if a string ends with a specified suffix."
      ],
      "metadata": {
        "id": "l5Liv8fCJSaN"
      }
    },
    {
      "cell_type": "code",
      "source": [
        "text = \"Hello, World!\"\n",
        "\n",
        "# Check if the string starts with \"Hello\"\n",
        "starts_with = text.startswith(\"Hello\")\n",
        "print(starts_with)  # Output: True\n",
        "\n",
        "# Check if the string ends with \"World!\"\n",
        "ends_with = text.endswith(\"World!\")\n",
        "print(ends_with)  # Output: True\n",
        "\n",
        "# Check if the string ends with \"World!\"\n",
        "ends_with = text.endswith(\"Hi\")\n",
        "print(ends_with)  # Output: True\n"
      ],
      "metadata": {
        "colab": {
          "base_uri": "https://localhost:8080/"
        },
        "id": "WYbgGTIPKJWx",
        "outputId": "0d9586e5-56dd-4f49-fb7f-2019361cb295"
      },
      "execution_count": 20,
      "outputs": [
        {
          "output_type": "stream",
          "name": "stdout",
          "text": [
            "True\n",
            "True\n",
            "False\n"
          ]
        }
      ]
    },
    {
      "cell_type": "markdown",
      "source": [
        "*  **join() method:** The join() method concatenates a list of strings using a specified delimiter.like \",\" or anything else like this."
      ],
      "metadata": {
        "id": "vtXwI9fmKdbW"
      }
    },
    {
      "cell_type": "code",
      "source": [
        "fruits = [\"apple\", \"banana\", \"cherry\"]\n",
        "\n",
        "# Join the list of fruits with a comma delimiter\n",
        "joined_fruits = \", \".join(fruits)\n",
        "print(joined_fruits)  # Output: apple, banana, cherry\n",
        "\n",
        "# Join the list of fruits with a @ delimiter\n",
        "joined_fruits = \" & \".join(fruits)\n",
        "print(joined_fruits)  # Output: apple, banana, cherry\n",
        "\n",
        "# Join the list of fruits with a comma delimiter\n",
        "joined_fruits = \" or \".join(fruits)\n",
        "print(joined_fruits)  # Output: apple, banana, cherry"
      ],
      "metadata": {
        "colab": {
          "base_uri": "https://localhost:8080/"
        },
        "id": "pHlTN5INK0R8",
        "outputId": "d969f073-fd9e-4aa0-eb18-f3d6c7906f50"
      },
      "execution_count": 25,
      "outputs": [
        {
          "output_type": "stream",
          "name": "stdout",
          "text": [
            "apple, banana, cherry\n",
            "apple & banana & cherry\n",
            "apple or banana or cherry\n"
          ]
        }
      ]
    }
  ]
}