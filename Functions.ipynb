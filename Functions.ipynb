{
  "nbformat": 4,
  "nbformat_minor": 0,
  "metadata": {
    "colab": {
      "provenance": []
    },
    "kernelspec": {
      "name": "python3",
      "display_name": "Python 3"
    },
    "language_info": {
      "name": "python"
    }
  },
  "cells": [
    {
      "cell_type": "markdown",
      "source": [
        "\n",
        "#Functions:\n",
        "Are blocks of reusable code that perform specific tasks. They allow to break down complex problems into smaller, more manageable parts.\n",
        "* Functions are created using the def keyword followed by the function name and parentheses, can accept input parameters enclosed in the parentheses, which are used to pass values into the function, can optionally use the return statement to send a value back to the caller, have their own scope, meaning variables defined within a function are only accessible inside that function, unless explicitly stated otherwise.\n",
        "\n",
        "\n",
        "For Example:"
      ],
      "metadata": {
        "id": "ULL34AWoWx5d"
      }
    },
    {
      "cell_type": "code",
      "source": [
        "def calculate_rectangle_area(length, width):\n",
        "    area = length * width\n",
        "    return area\n",
        "\n",
        "\n",
        "length = 5\n",
        "width = 3\n",
        "result = calculate_rectangle_area(length, width)\n",
        "print(\"The area of the rectangle is:\", result)\n"
      ],
      "metadata": {
        "colab": {
          "base_uri": "https://localhost:8080/"
        },
        "id": "v_HzEn42XrCh",
        "outputId": "79586016-8733-4c24-bbc4-9b2f8c0d2740"
      },
      "execution_count": null,
      "outputs": [
        {
          "output_type": "stream",
          "name": "stdout",
          "text": [
            "The area of the rectangle is: 15\n"
          ]
        }
      ]
    },
    {
      "cell_type": "markdown",
      "source": [
        "##Function arguments:\n",
        "Are values or variables that are passed into a function when it is called.\n",
        "\n",
        "Four types of arguments that we can provide in a function:\n",
        "\n",
        "* **Default Arguments:**  in functions allows to assign predefined values to parameters, providing a fallback option if the caller does not provide a value for that argument.\n"
      ],
      "metadata": {
        "id": "GsOcveVCZm_h"
      }
    },
    {
      "cell_type": "code",
      "source": [
        "def greet(name, greeting=\"Hello\"):\n",
        "    message = greeting + \", \" + name + \"!\"\n",
        "    return message\n",
        "\n",
        "print(greet(\"Umema\"))\n",
        "\n",
        "\n",
        "print(greet(\"Aina\", \"Hi\"))\n",
        "\n",
        "\n",
        "print(greet(\"Jhon\", \"Hey\"))\n",
        "\n"
      ],
      "metadata": {
        "colab": {
          "base_uri": "https://localhost:8080/"
        },
        "id": "XDkJTvsQak24",
        "outputId": "ae24a1b9-42ef-4adf-f862-f0e8a1fd2a27"
      },
      "execution_count": null,
      "outputs": [
        {
          "output_type": "stream",
          "name": "stdout",
          "text": [
            "Hello, Umema!\n",
            "Hi, Aina!\n",
            "Hey, Jhon!\n"
          ]
        }
      ]
    },
    {
      "cell_type": "markdown",
      "source": [
        "* **Keyword Arguments:** also known as named arguments, allows to pass arguments to a function using the parameter name along with the corresponding value."
      ],
      "metadata": {
        "id": "E1DNu3GkbpGh"
      }
    },
    {
      "cell_type": "code",
      "source": [
        "def send_email(sender, recipient, subject, body, cc=None, bcc=None):\n",
        "    # Code to send email using the provided arguments\n",
        "    print(\"Email sent from:\", sender)\n",
        "    print(\"Recipient:\", recipient)\n",
        "    print(\"Subject:\", subject)\n",
        "    print(\"Body:\", body)\n",
        "    if cc:\n",
        "        print(\"CC:\", cc)\n",
        "    if bcc:\n",
        "        print(\"BCC:\", bcc)\n",
        "\n",
        "\n",
        "send_email(\"some@xyz.com\", \"umemabatool.com\", \"Hello\", \"Just asking How are you?\")\n"
      ],
      "metadata": {
        "colab": {
          "base_uri": "https://localhost:8080/"
        },
        "id": "2vR7xCXGcJZL",
        "outputId": "bd7fefb5-53b9-4466-a559-979386674ecf"
      },
      "execution_count": null,
      "outputs": [
        {
          "output_type": "stream",
          "name": "stdout",
          "text": [
            "Email sent from: some@xyz.com\n",
            "Recipient: umemabatool.com\n",
            "Subject: Hello\n",
            "Body: Just asking How are you?\n"
          ]
        }
      ]
    },
    {
      "cell_type": "markdown",
      "source": [
        "* **Required arguments** in functions are parameters that must be provided with a value when calling the function. They do not have default values assigned to them and are essential for the function to execute correctly."
      ],
      "metadata": {
        "id": "95fvF4FiLc6o"
      }
    },
    {
      "cell_type": "code",
      "source": [
        "def add_numbers(a, b):\n",
        "    return a + b\n",
        "\n",
        "result = add_numbers(3, 4)\n",
        "print(\"The sum is:\", result)\n"
      ],
      "metadata": {
        "colab": {
          "base_uri": "https://localhost:8080/"
        },
        "id": "G1UunBZYMDzi",
        "outputId": "a615ec95-9d4d-47b7-8586-cfe6bb8a7b97"
      },
      "execution_count": 1,
      "outputs": [
        {
          "output_type": "stream",
          "name": "stdout",
          "text": [
            "The sum is: 7\n"
          ]
        }
      ]
    },
    {
      "cell_type": "markdown",
      "source": [
        "* **Variable-length arguments:** also known as varargs, allow a function to accept a varying number of arguments during its invocation, providing flexibility to handle different input scenarios.\n",
        "\n",
        "There are two ways to achieve this:\n",
        "\n",
        "**Arbitrary Arguments:**\n",
        " While creating a function, pass a * before the parameter name while defining the function. The function accesses the arguments by processing them in the form of tuple.\n",
        "\n",
        "\n",
        "\n"
      ],
      "metadata": {
        "id": "N7MnWysSMb60"
      }
    },
    {
      "cell_type": "code",
      "source": [
        "def calculate_average(*numbers):\n",
        "    total = sum(numbers)\n",
        "    average = total / len(numbers)\n",
        "    return average\n",
        "\n",
        "print(calculate_average(5, 8, 12))\n",
        "\n",
        "print(calculate_average(2, 4, 6, 8, 10))\n",
        "\n",
        "print(calculate_average(3))"
      ],
      "metadata": {
        "colab": {
          "base_uri": "https://localhost:8080/"
        },
        "id": "dZtEOmhQNKgz",
        "outputId": "083d0538-0ca2-43bc-bd50-e0b2302b67d2"
      },
      "execution_count": 2,
      "outputs": [
        {
          "output_type": "stream",
          "name": "stdout",
          "text": [
            "8.333333333333334\n",
            "6.0\n",
            "3.0\n"
          ]
        }
      ]
    },
    {
      "cell_type": "markdown",
      "source": [
        "**Keyword Arbitrary Arguments:**\n",
        "While creating a function, pass a * before the parameter name while defining the function. The function accesses the arguments by processing them in the form of dictionary."
      ],
      "metadata": {
        "id": "FMo1orofODA3"
      }
    },
    {
      "cell_type": "code",
      "source": [
        "def print_student_details(**details):\n",
        "    for key, value in details.items():\n",
        "        print(key + \": \" + value)\n",
        "\n",
        "print_student_details(name=\"Umema\", age=\"21\", grade=\"A\")\n",
        "\n",
        "print_student_details(name=\"Bob\", grade=\"B+\")"
      ],
      "metadata": {
        "colab": {
          "base_uri": "https://localhost:8080/"
        },
        "id": "ZA3wnr5nOk06",
        "outputId": "77886c81-9ef5-4f22-cc24-65c0e8a9827f"
      },
      "execution_count": 4,
      "outputs": [
        {
          "output_type": "stream",
          "name": "stdout",
          "text": [
            "name: Umema\n",
            "age: 21\n",
            "grade: A\n",
            "name: Bob\n",
            "grade: B+\n"
          ]
        }
      ]
    },
    {
      "cell_type": "markdown",
      "source": [
        "##Example of Functions:"
      ],
      "metadata": {
        "id": "A0LnE_EOS-qA"
      }
    },
    {
      "cell_type": "code",
      "source": [
        "# Function to calculate the average of a list of numbers\n",
        "def calculate_average(numbers):\n",
        "    total = sum(numbers)\n",
        "    average = total / len(numbers)\n",
        "    return average\n",
        "\n",
        "# Function to filter even numbers from a list\n",
        "def filter_even_numbers(numbers):\n",
        "    evens = [num for num in numbers if num % 2 == 0]\n",
        "    return evens\n",
        "\n",
        "# Function to greet a person with a customizable message\n",
        "def greet_person(name, message=\"Hello\"):\n",
        "   greeting = \"{}, {}!\".format(message, name)\n",
        "   return greeting\n",
        "\n",
        "# Main program\n",
        "def main():\n",
        "    # Calculate average of a list of numbers\n",
        "    numbers = [5, 8, 12, 3, 6, 9]\n",
        "    average = calculate_average(numbers)\n",
        "    print(\"Average:\", average)\n",
        "\n",
        "    # Filter even numbers from a list\n",
        "    numbers = [1, 2, 3, 4, 5, 6, 7, 8, 9, 10]\n",
        "    evens = filter_even_numbers(numbers)\n",
        "    print(\"Even numbers:\", evens)\n",
        "\n",
        "    # Greet a person with different messages\n",
        "    name = \"Umema\"\n",
        "    message = \"Hi there!\"\n",
        "    greeting = greet_person(name, message)\n",
        "    print(greeting)\n",
        "\n",
        "    name = \"Batool\"\n",
        "    greeting = greet_person(name)\n",
        "    print(greeting)\n",
        "\n",
        "# Run the main program\n",
        "main()\n"
      ],
      "metadata": {
        "colab": {
          "base_uri": "https://localhost:8080/"
        },
        "id": "PffDZvXXRKkW",
        "outputId": "de88cf88-3d19-4f16-8ed4-f02a8ed0531c"
      },
      "execution_count": 8,
      "outputs": [
        {
          "output_type": "stream",
          "name": "stdout",
          "text": [
            "Average: 7.166666666666667\n",
            "Even numbers: [2, 4, 6, 8, 10]\n",
            "Hi there!, Umema!\n",
            "Hello, Batool!\n"
          ]
        }
      ]
    }
  ]
}