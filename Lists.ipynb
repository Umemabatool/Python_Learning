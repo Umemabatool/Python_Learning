{
  "nbformat": 4,
  "nbformat_minor": 0,
  "metadata": {
    "colab": {
      "provenance": []
    },
    "kernelspec": {
      "name": "python3",
      "display_name": "Python 3"
    },
    "language_info": {
      "name": "python"
    }
  },
  "cells": [
    {
      "cell_type": "markdown",
      "source": [
        "#Lists in Python\n",
        "A list in Python is an ordered collection of elements enclosed in square brackets.\n",
        "\n",
        "**List slicing** in Python allows to extract a portion of a list by specifying start and end indices, and it can be done using the slice notation list[start:end].\n",
        "\n",
        "**Negative slicing** is a variant where negative indices are used, counting from the end of the list or we can also achieve it by first concerting it to positive by subtracting the gived value from the lenght of list[len(list)-x]\n",
        "\n",
        "Also we can apply multiple methods on lists like:\n",
        "* append()\n",
        "* extend()\n",
        "* insert()\n",
        "* remove()\n",
        "* pop()\n",
        "* index()\n",
        "* count()\n",
        "* sort()\n",
        "* reverse()\n",
        "* copy()\n",
        "* clear()"
      ],
      "metadata": {
        "id": "mnFSCqlMh2xH"
      }
    },
    {
      "cell_type": "code",
      "source": [
        "List1 = [3, 5, 6, 8, 13, 1, 6, 5, 5, 1, 4]\n",
        "print(List1)\n",
        "\n",
        "List1.reverse()\n",
        "print(List1)\n",
        "\n",
        "List1.sort()\n",
        "print(List1)\n",
        "\n",
        "List1.sort(reverse=True)\n",
        "print(List1)\n",
        "\n",
        "List1.append(88)\n",
        "print(List1)\n",
        "\n",
        "print(List1.index(5))\n",
        "print(List1.count(5))\n",
        "print(List1.count(1))\n",
        "\n",
        "# m1 = List1\n",
        "# m1[0]= 'from_m1'\n",
        "# print(m1)\n",
        "# print(List1)\n",
        "\n",
        "l2 = List1.copy()\n",
        "l2[0]= 'from_m1'\n",
        "print(l2)\n",
        "print(List1)\n",
        "\n",
        "List1.remove(5)\n",
        "print(List1)\n",
        "\n",
        "List1.insert(2,99)\n",
        "print(List1)\n",
        "\n",
        "l3=['orange','mango','banana']\n",
        "\n",
        "List1.extend(l3)\n",
        "print(List1)\n",
        "\n",
        "List2 = l2 + l3\n",
        "print(List2)\n",
        "\n",
        "List2.clear()\n",
        "print(List2)"
      ],
      "metadata": {
        "colab": {
          "base_uri": "https://localhost:8080/"
        },
        "id": "Dcg7Kxclvxz9",
        "outputId": "d9d6b1fb-7682-468c-9ac2-28610dbe5b43"
      },
      "execution_count": null,
      "outputs": [
        {
          "output_type": "stream",
          "name": "stdout",
          "text": [
            "[3, 5, 6, 8, 13, 1, 6, 5, 5, 1, 4]\n",
            "[4, 1, 5, 5, 6, 1, 13, 8, 6, 5, 3]\n",
            "[1, 1, 3, 4, 5, 5, 5, 6, 6, 8, 13]\n",
            "[13, 8, 6, 6, 5, 5, 5, 4, 3, 1, 1]\n",
            "[13, 8, 6, 6, 5, 5, 5, 4, 3, 1, 1, 88]\n",
            "4\n",
            "3\n",
            "2\n",
            "['from_m1', 8, 6, 6, 5, 5, 5, 4, 3, 1, 1, 88]\n",
            "[13, 8, 6, 6, 5, 5, 5, 4, 3, 1, 1, 88]\n",
            "[13, 8, 6, 6, 5, 5, 4, 3, 1, 1, 88]\n",
            "[13, 8, 99, 6, 6, 5, 5, 4, 3, 1, 1, 88]\n",
            "[13, 8, 99, 6, 6, 5, 5, 4, 3, 1, 1, 88, 'orange', 'mango', 'banana']\n",
            "['from_m1', 8, 6, 6, 5, 5, 5, 4, 3, 1, 1, 88, 'orange', 'mango', 'banana']\n",
            "[]\n"
          ]
        }
      ]
    },
    {
      "cell_type": "markdown",
      "source": [
        "##Scenario: Managing a to-do list"
      ],
      "metadata": {
        "id": "jymW97n24oRj"
      }
    },
    {
      "cell_type": "code",
      "source": [
        "# Create an empty to-do list\n",
        "to_do_list = []\n",
        "\n",
        "# Add tasks to the list\n",
        "to_do_list.append(\"Complete project\")\n",
        "to_do_list.append(\"Buy groceries\")\n",
        "to_do_list.append(\"Call the bank\")\n",
        "\n",
        "# Display the to-do list\n",
        "print(\"To-Do List:\")\n",
        "for task in to_do_list:\n",
        "    print(\"- \" + task)\n",
        "\n",
        "# Check if a task is in the list\n",
        "if \"Buy groceries\" in to_do_list:\n",
        "    print(\"Remember to buy groceries!\")\n",
        "\n",
        "# Update a task in the list\n",
        "to_do_list[0] = \"Finish report\"\n",
        "\n",
        "# Remove a task from the list\n",
        "to_do_list.remove(\"Call the bank\")\n",
        "\n",
        "# Sort the tasks alphabetically\n",
        "to_do_list.sort()\n",
        "\n",
        "print(\"Updated To-Do List:\")\n",
        "for index in range(len(to_do_list)):\n",
        "    task = to_do_list[index]\n",
        "    print(str(index + 1) + \". \" + task)\n",
        "\n",
        "\n",
        "# Get the length of the to-do list\n",
        "list_length = len(to_do_list)\n",
        "print(\"Number of tasks:\", list_length)\n",
        "\n",
        "# Clear the to-do list\n",
        "to_do_list.clear()\n",
        "\n",
        "# Check if the list is empty\n",
        "if not to_do_list:\n",
        "    print(\"To-Do list is empty!\")\n"
      ],
      "metadata": {
        "colab": {
          "base_uri": "https://localhost:8080/"
        },
        "id": "iEtiNi764ifJ",
        "outputId": "a0e0ef9c-9fc5-4969-95c4-93029a78ab9f"
      },
      "execution_count": null,
      "outputs": [
        {
          "output_type": "stream",
          "name": "stdout",
          "text": [
            "To-Do List:\n",
            "- Complete project\n",
            "- Buy groceries\n",
            "- Call the bank\n",
            "Remember to buy groceries!\n",
            "Updated To-Do List:\n",
            "1. Buy groceries\n",
            "2. Finish report\n",
            "Number of tasks: 2\n",
            "To-Do list is empty!\n"
          ]
        }
      ]
    },
    {
      "cell_type": "markdown",
      "source": [
        "## Scenario: Managing a grocery store inventory"
      ],
      "metadata": {
        "id": "8-jl1M9m5DFZ"
      }
    },
    {
      "cell_type": "code",
      "source": [
        "# Create an empty grocery store inventory\n",
        "inventory = []\n",
        "\n",
        "# Add products to the inventory\n",
        "inventory.append(\"Apples\")\n",
        "inventory.append(\"Bananas\")\n",
        "inventory.append(\"Milk\")\n",
        "inventory.append(\"Bread\")\n",
        "inventory.append(\"Eggs\")\n",
        "\n",
        "# Display the inventory\n",
        "print(\"Grocery Store Inventory:\")\n",
        "for product in inventory:\n",
        "    print(\"- \" + product)\n",
        "\n",
        "# Check if a specific product is available\n",
        "if \"Bananas\" in inventory:\n",
        "    print(\"Bananas are available!\")\n",
        "\n",
        "# Update the quantity of a product in the inventory\n",
        "inventory[2] = \"Almond Milk\"\n",
        "\n",
        "# Remove a product from the inventory\n",
        "inventory.remove(\"Bread\")\n",
        "\n",
        "# Add new products to the inventory\n",
        "inventory.extend([\"Yogurt\", \"Cheese\"])\n",
        "\n",
        "# Sort the inventory in alphabetical order\n",
        "inventory.sort()\n",
        "\n",
        "print(\"Updated Grocery Store Inventory:\")\n",
        "for index in range(len(inventory)):\n",
        "    product = inventory[index]\n",
        "    print(str(index + 1) + \". \" + product)\n",
        "\n",
        "# Get the total number of products in the inventory\n",
        "inventory_length = len(inventory)\n",
        "print(\"Number of products:\", inventory_length)\n",
        "\n",
        "# Clear the inventory\n",
        "inventory.clear()\n",
        "\n",
        "# Check if the inventory is empty\n",
        "if not inventory:\n",
        "    print(\"Grocery store inventory is empty!\")\n"
      ],
      "metadata": {
        "colab": {
          "base_uri": "https://localhost:8080/"
        },
        "id": "PnXEqoC95DmJ",
        "outputId": "fa18455d-0c59-4a48-95eb-565a607b0078"
      },
      "execution_count": null,
      "outputs": [
        {
          "output_type": "stream",
          "name": "stdout",
          "text": [
            "Grocery Store Inventory:\n",
            "- Apples\n",
            "- Bananas\n",
            "- Milk\n",
            "- Bread\n",
            "- Eggs\n",
            "Bananas are available!\n",
            "Updated Grocery Store Inventory:\n",
            "1. Almond Milk\n",
            "2. Apples\n",
            "3. Bananas\n",
            "4. Cheese\n",
            "5. Eggs\n",
            "6. Yogurt\n",
            "Number of products: 6\n",
            "Grocery store inventory is empty!\n"
          ]
        }
      ]
    },
    {
      "cell_type": "markdown",
      "source": [
        "#List Comprehension\n",
        "List comprehensions are used for creating new lists from other iterables like lists, tuples, dictionaries, sets, and even in arrays and strings.\n",
        "\n",
        "**Syntax:**\n",
        "\n",
        "List = [Expression(item) for item in iterable if Condition]\n"
      ],
      "metadata": {
        "id": "SvjRqdnV6pH2"
      }
    },
    {
      "cell_type": "markdown",
      "source": [
        "***Scenario: Calculating the square of even numbers from 1 to 10***"
      ],
      "metadata": {
        "id": "7ai2jIhq7-6O"
      }
    },
    {
      "cell_type": "code",
      "source": [
        "# Using a for loop\n",
        "squares = []\n",
        "for num in range(1, 11):\n",
        "    if num % 2 == 0:\n",
        "        squares.append(num ** 2)\n",
        "print(\"Squares (using a for loop):\", squares)\n",
        "\n",
        "# Using list comprehension\n",
        "squares = [num ** 2 for num in range(1, 11) if num % 2 == 0]\n",
        "print(\"Squares (using list comprehension):\", squares)\n"
      ],
      "metadata": {
        "colab": {
          "base_uri": "https://localhost:8080/"
        },
        "id": "OsKcN2r87vl6",
        "outputId": "269f6a53-1f15-45ab-a3b4-201de666f80b"
      },
      "execution_count": null,
      "outputs": [
        {
          "output_type": "stream",
          "name": "stdout",
          "text": [
            "Squares (using a for loop): [4, 16, 36, 64, 100]\n",
            "Squares (using list comprehension): [4, 16, 36, 64, 100]\n"
          ]
        }
      ]
    },
    {
      "cell_type": "markdown",
      "source": [
        "**Scenario:**\n",
        "You are given three integers x, y and z representing the dimensions of a cuboid along with an integer n. Print a list of all possible coordinates given by(i,j,k) on a 3D grid where the sum of (i+j+k) is not equal to n. Please use list comprehensions rather than multiple loops, as a learning exercise."
      ],
      "metadata": {
        "id": "Exd4k2Rwan6h"
      }
    },
    {
      "cell_type": "code",
      "source": [
        "x = int(input())\n",
        "y = int(input())\n",
        "z = int(input())\n",
        "n = int(input())\n",
        "\n",
        "l = [[i, j, k] for i in range(x + 1) for j in range(y + 1) for k in range(z + 1) if (i + j + k != n)]\n",
        "\n",
        "print(l)\n"
      ],
      "metadata": {
        "colab": {
          "base_uri": "https://localhost:8080/"
        },
        "id": "7mErWpa2amWi",
        "outputId": "f6946285-d2f4-4e4a-a76d-5e0aa3dcebe5"
      },
      "execution_count": null,
      "outputs": [
        {
          "output_type": "stream",
          "name": "stdout",
          "text": [
            "1\n",
            "1\n",
            "1\n",
            "2\n",
            "[[0, 0, 0], [0, 0, 1], [0, 1, 0], [1, 0, 0], [1, 1, 1]]\n"
          ]
        }
      ]
    },
    {
      "cell_type": "markdown",
      "source": [
        "**Scenario:**\n",
        "Given the participants' score sheet for your University Sports Day, you are required to find the runner-up score. You are given n scores. Store them in a list and find the score of the runner-up."
      ],
      "metadata": {
        "id": "uWdIZnKEf1bx"
      }
    },
    {
      "cell_type": "code",
      "source": [
        "n = int(input())\n",
        "arr = list(map(int, input().split()))\n",
        "\n",
        "a = max(arr)\n",
        "\n",
        "c = arr.count(a)\n",
        "\n",
        "for i in range(c):\n",
        "    arr.remove(a)\n",
        "\n",
        "print(max(arr))\n"
      ],
      "metadata": {
        "colab": {
          "base_uri": "https://localhost:8080/"
        },
        "id": "C0sMqUmmf8s-",
        "outputId": "0355ab67-6710-4f51-c189-d18810eba119"
      },
      "execution_count": null,
      "outputs": [
        {
          "output_type": "stream",
          "name": "stdout",
          "text": [
            "5\n",
            "2 3 4 6 6 5 \n",
            "5\n"
          ]
        }
      ]
    }
  ]
}