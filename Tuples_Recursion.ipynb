{
  "nbformat": 4,
  "nbformat_minor": 0,
  "metadata": {
    "colab": {
      "provenance": []
    },
    "kernelspec": {
      "name": "python3",
      "display_name": "Python 3"
    },
    "language_info": {
      "name": "python"
    }
  },
  "cells": [
    {
      "cell_type": "code",
      "execution_count": null,
      "metadata": {
        "id": "N97H95bn2CTh"
      },
      "outputs": [],
      "source": []
    },
    {
      "cell_type": "markdown",
      "source": [
        "#Tuples\n",
        " In Python tuples are ordered, immutable collections of elements enclosed in parentheses.\n",
        "\n",
        "  Tuples can store values of different data types, such as strings, integers, floats, or even other tuples.\n",
        "\n",
        "Tuples are immutable, meaning their values cannot be modified after creation. However, you can create new tuples by concatenating or slicing existing ones."
      ],
      "metadata": {
        "id": "sYbytG-aFaKG"
      }
    },
    {
      "cell_type": "code",
      "source": [
        "person = (\"Umema\", 21)\n",
        "name = person[0]\n",
        "age = person[1]\n",
        "\n",
        "print(name)\n",
        "print(age)\n",
        "\n",
        "person = person + (\"Batool\",)\n",
        "print(person)\n",
        "\n",
        "name_and_age = person[:2]\n",
        "print(name_and_age)\n"
      ],
      "metadata": {
        "colab": {
          "base_uri": "https://localhost:8080/"
        },
        "id": "_68_WUbvFqRg",
        "outputId": "211201a5-5a87-44d0-e47d-4dcb57738cd2"
      },
      "execution_count": 2,
      "outputs": [
        {
          "output_type": "stream",
          "name": "stdout",
          "text": [
            "Umema\n",
            "21\n",
            "('Umema', 21, 'Batool')\n",
            "('Umema', 21)\n"
          ]
        }
      ]
    },
    {
      "cell_type": "markdown",
      "source": [
        "#f-strings:\n",
        "f-strings, short for formatted string literals, are a convenient way to embed expressions inside string literals. They allow you to easily interpolate variables and expressions into strings without the need for manual concatenation or formatting."
      ],
      "metadata": {
        "id": "eS7lcovUHvYI"
      }
    },
    {
      "cell_type": "code",
      "source": [
        "name = \"Umema\"\n",
        "age = 21\n",
        "\n",
        "message = f\"Hello, {name}! You are {age} years old.\"\n",
        "print(message)\n",
        "\n",
        "result = f\"The sum of 2 and 3 is {2 + 3}.\"\n",
        "print(result)\n"
      ],
      "metadata": {
        "colab": {
          "base_uri": "https://localhost:8080/"
        },
        "id": "un9pkG9aH2ti",
        "outputId": "7f508798-b697-4505-f203-ba374ab0d009"
      },
      "execution_count": 4,
      "outputs": [
        {
          "output_type": "stream",
          "name": "stdout",
          "text": [
            "Hello, Umema! You are 21 years old.\n",
            "The sum of 2 and 3 is 5.\n"
          ]
        }
      ]
    },
    {
      "cell_type": "markdown",
      "source": [
        "#Docstrings:\n",
        "Docstrings are used to provide documentation or descriptions for functions, modules, or classes in Python. They are multi-line strings enclosed in triple quotes (''' or \"\"\") and are typically placed immediately after the definition of the entity they describe."
      ],
      "metadata": {
        "id": "O9NlgenpIISC"
      }
    },
    {
      "cell_type": "code",
      "source": [
        "def square(n):\n",
        "    \"\"\"This function calculates the square of a number.\"\"\"\n",
        "    return n ** 2\n",
        "\n",
        "print(square.__doc__)\n"
      ],
      "metadata": {
        "colab": {
          "base_uri": "https://localhost:8080/"
        },
        "id": "Dui-mmoxIRKn",
        "outputId": "269bb290-6e2c-4911-a988-dda8f950a318"
      },
      "execution_count": 6,
      "outputs": [
        {
          "output_type": "stream",
          "name": "stdout",
          "text": [
            "This function calculates the square of a number.\n"
          ]
        }
      ]
    },
    {
      "cell_type": "markdown",
      "source": [
        "#Recursion\n",
        "\n",
        "When a Function calls it-self in it-self then this is called recursion."
      ],
      "metadata": {
        "id": "YTmSVFxFKZRR"
      }
    },
    {
      "cell_type": "code",
      "source": [
        "def factorial(n):\n",
        "    if n == 0 or n == 1:\n",
        "        return 1\n",
        "    else:\n",
        "        return n * factorial(n - 1)\n",
        "\n",
        "result = factorial(5)\n",
        "print(result)\n",
        "\n",
        "result = factorial(1)\n",
        "print(result)\n"
      ],
      "metadata": {
        "colab": {
          "base_uri": "https://localhost:8080/"
        },
        "id": "n_vPz_CNKtEK",
        "outputId": "7fc1afee-1997-45de-cf91-a46f9fb0ef12"
      },
      "execution_count": 10,
      "outputs": [
        {
          "output_type": "stream",
          "name": "stdout",
          "text": [
            "120\n",
            "1\n"
          ]
        }
      ]
    },
    {
      "cell_type": "code",
      "source": [
        "a = int(input(\"Enter any number : \"))\n",
        "\n",
        "def fibonacci(n):\n",
        "    if (n == 1 or n == 0):\n",
        "        return n\n",
        "    else:\n",
        "        return fibonacci(n-1)+fibonacci(n-2)\n",
        "\n",
        "for i in range(a):\n",
        "    print(fibonacci(i))\n",
        "\n"
      ],
      "metadata": {
        "colab": {
          "base_uri": "https://localhost:8080/"
        },
        "id": "5NRx9vpLMEKc",
        "outputId": "7770e846-91cd-4bd3-d91e-715361809308"
      },
      "execution_count": 11,
      "outputs": [
        {
          "output_type": "stream",
          "name": "stdout",
          "text": [
            "Enter any number : 7\n",
            "0\n",
            "1\n",
            "1\n",
            "2\n",
            "3\n",
            "5\n",
            "8\n"
          ]
        }
      ]
    },
    {
      "cell_type": "markdown",
      "source": [
        "##Road Detection Program.\n",
        "This Program detects the roads and give the count of the roads in the given image."
      ],
      "metadata": {
        "id": "U5LZbIVHQAca"
      }
    },
    {
      "cell_type": "code",
      "source": [
        "matrix = open(r\"location of the image file \")\n",
        "\n",
        "\n",
        "matrix.read(\"rb\")\n",
        "def blobCount(img,r,c):\n",
        "    if (r<len(img) and c<len(img[0]) and r!=-1 and c!=-1):  #checks if row and column are not greater than available and neither less than 0\n",
        "        if img[r][c]==0:\n",
        "            return 0\n",
        "        else:\n",
        "          ##  print(img[r][c])\n",
        "            img[r][c]=0   #replaces the already read black pixel with 0 so it's not read again and used in calculation\n",
        "          ##  print(img[r][c])\n",
        "            return (1\n",
        "                    +blobCount(img,r,c-1)\n",
        "                    +blobCount(img,r,c+1)\n",
        "                    +blobCount(img,r+1,c)\n",
        "                    +blobCount(img,r-1,c)\n",
        "                    +blobCount(img,r+1,c+1)\n",
        "                    +blobCount(img,r+1,c-1)\n",
        "                    +blobCount(img,r-1,c+1)\n",
        "                    +blobCount(img,r-1,c-1))\n",
        "    else:\n",
        "        return 0\n",
        "road=1\n",
        "for row in range(len(matrix)):\n",
        "    for col in range(len(matrix[0])):\n",
        "        if matrix[row][col]==1:\n",
        "            num=blobCount(matrix,row,col)\n",
        "        else:\n",
        "            continue\n",
        "        print(\"length of road \",road,\" is \",num,\" pixels\")\n",
        "        road+=1"
      ],
      "metadata": {
        "id": "ny64gEeiP0bO"
      },
      "execution_count": null,
      "outputs": []
    }
  ]
}