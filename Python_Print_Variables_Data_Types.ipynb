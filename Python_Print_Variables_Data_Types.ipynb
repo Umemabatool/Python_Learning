{
  "nbformat": 4,
  "nbformat_minor": 0,
  "metadata": {
    "colab": {
      "provenance": []
    },
    "kernelspec": {
      "name": "python3",
      "display_name": "Python 3"
    },
    "language_info": {
      "name": "python"
    }
  },
  "cells": [
    {
      "cell_type": "markdown",
      "source": [
        "#Introduction to Python\n",
        "Python is a high-level, interpreted programming language known for its simplicity, readability, and extensive libraries. It empowers developers to create diverse applications with ease while fostering a supportive community for learning and collaboration.\n",
        "\n",
        "##Print Statment in python:\n",
        "The print statement in Python is a built-in function used to display information or variable values to the console.\n",
        "\n",
        "**For Example:**\n",
        "\n"
      ],
      "metadata": {
        "id": "_pIOSYSy0EAi"
      }
    },
    {
      "cell_type": "code",
      "source": [
        "print(\"Hello, World!\")\n"
      ],
      "metadata": {
        "colab": {
          "base_uri": "https://localhost:8080/"
        },
        "id": "VQ1eO8LKAqnr",
        "outputId": "e13ed32d-a5f0-419d-d91f-869a8a9d93ff"
      },
      "execution_count": 3,
      "outputs": [
        {
          "output_type": "stream",
          "name": "stdout",
          "text": [
            "Hello, World!\n"
          ]
        }
      ]
    },
    {
      "cell_type": "markdown",
      "source": [
        "##Comments in python:\n",
        "\n",
        "In Python programming, comments are used to add explanatory or descriptive text within the code that is ignored by the interpreter or compiler and provide additional information to developers, making the code more readable and understandable.\n",
        "\n",
        "**For Example:**\n",
        "we have two types of comments\n",
        "\n",
        "*   Signle-line comment\n",
        "*   multi-line comment\n",
        "\n",
        "**Single-line comments:** These comments start with the hash symbol (#) and continue until the end of the line. They are typically used for brief explanations or clarifications.\n"
      ],
      "metadata": {
        "id": "Aad5BdGjA5Xc"
      }
    },
    {
      "cell_type": "code",
      "source": [
        "# This is a single-line comment\n",
        "x = 5  # Assigning the value 5 to the variable x\n"
      ],
      "metadata": {
        "id": "07pwlf7h4SDR"
      },
      "execution_count": 1,
      "outputs": []
    },
    {
      "cell_type": "markdown",
      "source": [
        "**Multi-line comments:** Also known as docstrings, these comments span multiple lines and are enclosed within triple quotes (''' or \" \" \"). They are commonly used to provide more detailed explanations, document functions, classes, or modules."
      ],
      "metadata": {
        "id": "r4supeGY4hvU"
      }
    },
    {
      "cell_type": "code",
      "source": [
        "'''\n",
        "This is a multi-line comment.\n",
        "It can span multiple lines and is enclosed within triple quotes.\n",
        "'''\n",
        "def greet(name):\n",
        "    '''\n",
        "    This function greets the user with the provided name.\n",
        "    '''\n",
        "    print(\"Hello, \" + name)\n",
        "\n"
      ],
      "metadata": {
        "id": "PJsCuLcG4vxP"
      },
      "execution_count": 2,
      "outputs": []
    },
    {
      "cell_type": "markdown",
      "source": [
        "##Variable:\n",
        " Is a named container used to store data values. Variables act as placeholders that allows to refer to and manipulate data throughout program. They are assigned values and can be updated or modified as needed during the execution of the program.\n",
        " Variables are created by assigning a value to them using the assignment operator (=). The value can be of any data type, such as numbers, strings, lists, or even more complex objects.\n",
        "\n",
        " **For Example:**"
      ],
      "metadata": {
        "id": "v1yyFtAE_Ajs"
      }
    },
    {
      "cell_type": "code",
      "source": [
        "# Creating variables and assigning values to them\n",
        "name = \"Umema Batool\"\n",
        "age = 20\n",
        "is_student = True\n",
        "pi_value = 3.14\n",
        "\n",
        "# Printing the values of the variables\n",
        "print(\"Name:\", name)\n",
        "print(\"Age:\", age)\n",
        "print(\"Is Student:\", is_student)\n",
        "print(\"Pi Value:\", pi_value)\n"
      ],
      "metadata": {
        "colab": {
          "base_uri": "https://localhost:8080/"
        },
        "id": "0w2iUo-8BPSo",
        "outputId": "97c6c868-3100-4d55-db6f-ef9e5b9c2d56"
      },
      "execution_count": 4,
      "outputs": [
        {
          "output_type": "stream",
          "name": "stdout",
          "text": [
            "Name: Umema Batool\n",
            "Age: 20\n",
            "Is Student: True\n",
            "Pi Value: 3.14\n"
          ]
        }
      ]
    },
    {
      "cell_type": "code",
      "source": [
        "# Modifying the values of the variables\n",
        "age = 21\n",
        "is_student = False\n",
        "pi_value = 3.14159\n",
        "\n",
        "# Printing the updated values\n",
        "print(\"Updated Age:\", age)\n",
        "print(\"Updated Is Student:\", is_student)\n",
        "print(\"Updated Pi Value:\", pi_value)"
      ],
      "metadata": {
        "colab": {
          "base_uri": "https://localhost:8080/"
        },
        "id": "OQgirK6EB13q",
        "outputId": "5bd8248d-88bc-4aab-b20f-3b8ecda2dc36"
      },
      "execution_count": 5,
      "outputs": [
        {
          "output_type": "stream",
          "name": "stdout",
          "text": [
            "Updated Age: 21\n",
            "Updated Is Student: False\n",
            "Updated Pi Value: 3.14159\n"
          ]
        }
      ]
    },
    {
      "cell_type": "markdown",
      "source": [
        "##Data types in Python:\n",
        "Categories that define the nature of data and determine the valid operations that can be applied to them.\n",
        "\n",
        "Here are few predefined or built-in data types in Python:\n",
        "\n",
        "\n",
        "\n",
        "1.   Integer (int): Represents whole numbers without decimal points.\n",
        "\n",
        "eg:"
      ],
      "metadata": {
        "id": "CDVk7pisDx2E"
      }
    },
    {
      "cell_type": "code",
      "source": [
        "age = 25\n",
        "quantity = 10\n",
        "print(age,quantity)"
      ],
      "metadata": {
        "colab": {
          "base_uri": "https://localhost:8080/"
        },
        "id": "QFjtTi9KEqWf",
        "outputId": "b381adf1-ab07-47eb-fad0-2d92691ed1db"
      },
      "execution_count": 7,
      "outputs": [
        {
          "output_type": "stream",
          "name": "stdout",
          "text": [
            "25 10\n"
          ]
        }
      ]
    },
    {
      "cell_type": "markdown",
      "source": [
        "\n",
        "\n",
        "2.   Float (float): Represents numbers with decimal points.\n",
        "\n",
        "eg:\n",
        "\n",
        "\n"
      ],
      "metadata": {
        "id": "wZ-of7D7E5Kt"
      }
    },
    {
      "cell_type": "code",
      "source": [
        "pi = 3.14\n",
        "temperature = 98.6\n",
        "print(pi,temperature)"
      ],
      "metadata": {
        "colab": {
          "base_uri": "https://localhost:8080/"
        },
        "id": "YD9hAwxsFCHq",
        "outputId": "6f169382-7491-457e-805b-dbaa5d60cd86"
      },
      "execution_count": 8,
      "outputs": [
        {
          "output_type": "stream",
          "name": "stdout",
          "text": [
            "3.14 98.6\n"
          ]
        }
      ]
    },
    {
      "cell_type": "markdown",
      "source": [
        "\n",
        "\n",
        "3. String (str): Represents sequences of characters enclosed in single quotes ('') or double quotes (\"\").\n",
        "\n",
        "eg:\n",
        "\n"
      ],
      "metadata": {
        "id": "AL1HvqQ8FL2v"
      }
    },
    {
      "cell_type": "code",
      "source": [
        "name = \"Umema \"\n",
        "message = '\\nHave a good day!'\n",
        "print(name,message)"
      ],
      "metadata": {
        "colab": {
          "base_uri": "https://localhost:8080/"
        },
        "id": "2pTc2Q0sFiPX",
        "outputId": "cc5a30de-6c9d-43c3-de9a-a70de371ce05"
      },
      "execution_count": 13,
      "outputs": [
        {
          "output_type": "stream",
          "name": "stdout",
          "text": [
            "Umema  \n",
            "Have a good day!\n"
          ]
        }
      ]
    },
    {
      "cell_type": "markdown",
      "source": [
        "\n",
        "\n",
        "4. Boolean (bool): Represents a logical value indicating either True or False.\n",
        "\n",
        "eg:\n",
        "\n",
        "\n"
      ],
      "metadata": {
        "id": "uezVV4PnLTHV"
      }
    },
    {
      "cell_type": "code",
      "source": [
        "is_student = True\n",
        "is_admin = False\n",
        "print(is_student,is_admin)"
      ],
      "metadata": {
        "colab": {
          "base_uri": "https://localhost:8080/"
        },
        "id": "YCx20OYTLgA7",
        "outputId": "8b56f42b-1514-4309-d137-c7bee888ed84"
      },
      "execution_count": 12,
      "outputs": [
        {
          "output_type": "stream",
          "name": "stdout",
          "text": [
            "True False\n"
          ]
        }
      ]
    },
    {
      "cell_type": "markdown",
      "source": [
        "\n",
        "\n",
        "5.   List (list): Represents an ordered collection of items enclosed in square brackets ([]).\n",
        "\n",
        "eg:\n",
        "\n",
        "\n"
      ],
      "metadata": {
        "id": "Emn-IvrAMCdr"
      }
    },
    {
      "cell_type": "code",
      "source": [
        "numbers = [1, 2, 3, 4, 5]\n",
        "names = [\"Alice\", \"Bob\", \"Charlie\"]\n",
        "print(numbers,names)"
      ],
      "metadata": {
        "colab": {
          "base_uri": "https://localhost:8080/"
        },
        "id": "GkyNSEdWMH7j",
        "outputId": "938e2618-1a16-42ea-b7fa-c923c6412aa1"
      },
      "execution_count": 14,
      "outputs": [
        {
          "output_type": "stream",
          "name": "stdout",
          "text": [
            "[1, 2, 3, 4, 5] ['Alice', 'Bob', 'Charlie']\n"
          ]
        }
      ]
    },
    {
      "cell_type": "markdown",
      "source": [
        "\n",
        "\n",
        "6.   Tuple (tuple): Represents an ordered collection of items enclosed in parentheses (()).\n",
        "\n",
        "eg:\n",
        "\n",
        "\n"
      ],
      "metadata": {
        "id": "ls3CdAYwMUbR"
      }
    },
    {
      "cell_type": "code",
      "source": [
        "coordinates = (10, 20)\n",
        "colors = (\"red\", \"green\", \"blue\")\n",
        "print(coordinates,colors)"
      ],
      "metadata": {
        "colab": {
          "base_uri": "https://localhost:8080/"
        },
        "id": "PXt3d2gLMeL1",
        "outputId": "925e3b9c-b4f2-4fa2-957d-33b0acbab3b7"
      },
      "execution_count": 15,
      "outputs": [
        {
          "output_type": "stream",
          "name": "stdout",
          "text": [
            "(10, 20) ('red', 'green', 'blue')\n"
          ]
        }
      ]
    },
    {
      "cell_type": "markdown",
      "source": [
        "\n",
        "\n",
        "7.   Dictionary (dict): Represents a collection of key-value pairs enclosed in curly braces ({}) where each key is associated with a value.\n",
        "\n",
        "eg:\n",
        "\n",
        "\n"
      ],
      "metadata": {
        "id": "fwr3_tODMr17"
      }
    },
    {
      "cell_type": "code",
      "source": [
        "person = {\"name\": \"John Doe\", \"age\": 25, \"is_student\": True}\n",
        "grades = {\"math\": 90, \"science\": 85, \"history\": 95}\n",
        "print(person,grades)"
      ],
      "metadata": {
        "colab": {
          "base_uri": "https://localhost:8080/"
        },
        "id": "4Snv41RuMw1f",
        "outputId": "cab0db85-90ff-4ab6-b927-e395bfd47ecc"
      },
      "execution_count": 16,
      "outputs": [
        {
          "output_type": "stream",
          "name": "stdout",
          "text": [
            "{'name': 'John Doe', 'age': 25, 'is_student': True} {'math': 90, 'science': 85, 'history': 95}\n"
          ]
        }
      ]
    },
    {
      "cell_type": "markdown",
      "source": [
        "#Escape sequences:\n",
        " are special character combinations that are used to represent certain characters that are difficult or impossible to include directly in a string. They are preceded by a backslash (\\) to indicate that they have a special meaning.\n",
        "\n",
        " Here some common escape sequences used in python:\n",
        "\n",
        "1.   \"double backslash\": Represents a backslash character.\n",
        "\n",
        "\n",
        "\n",
        "\n"
      ],
      "metadata": {
        "id": "7lmY2xfXNxbD"
      }
    },
    {
      "cell_type": "code",
      "source": [
        "path = \"C:\\\\Users\\\\Umema\\\\Documents\\\\file.txt\"\n",
        "print(path)\n"
      ],
      "metadata": {
        "colab": {
          "base_uri": "https://localhost:8080/"
        },
        "id": "1QpYPMG5P44U",
        "outputId": "aa6f9774-e071-4bec-a7b8-0f695d982323"
      },
      "execution_count": 19,
      "outputs": [
        {
          "output_type": "stream",
          "name": "stdout",
          "text": [
            "C:\\Users\\Umema\\Documents\\file.txt\n"
          ]
        }
      ]
    },
    {
      "cell_type": "markdown",
      "source": [
        "2.  \"single backslash with single quote\": Represents a single quote character.\n",
        "\n"
      ],
      "metadata": {
        "id": "exvJYNTIQLQR"
      }
    },
    {
      "cell_type": "code",
      "source": [
        "message = 'I\\'m learning Python.'\n",
        "print(message)"
      ],
      "metadata": {
        "colab": {
          "base_uri": "https://localhost:8080/"
        },
        "id": "Do8j0IN0QamY",
        "outputId": "2389a618-f64f-42e6-fef9-3853edf1c0ad"
      },
      "execution_count": 18,
      "outputs": [
        {
          "output_type": "stream",
          "name": "stdout",
          "text": [
            "I'm learning Python.\n"
          ]
        }
      ]
    },
    {
      "cell_type": "markdown",
      "source": [
        "3.   \"single backslash with double quote\": Represents a double quote character.\n",
        "\n"
      ],
      "metadata": {
        "id": "47UHAZA4QpmA"
      }
    },
    {
      "cell_type": "code",
      "source": [
        "dialogue = \"He said, \\\"Hello!\\\"\"\n",
        "print(dialogue)"
      ],
      "metadata": {
        "colab": {
          "base_uri": "https://localhost:8080/"
        },
        "id": "I0ht5vniQ-uM",
        "outputId": "6bc31d45-9582-401f-9fcb-72b7ee5f4b53"
      },
      "execution_count": 20,
      "outputs": [
        {
          "output_type": "stream",
          "name": "stdout",
          "text": [
            "He said, \"Hello!\"\n"
          ]
        }
      ]
    },
    {
      "cell_type": "markdown",
      "source": [
        "4.  \\n: Represents a newline character, used to start a new line.\n",
        "\n"
      ],
      "metadata": {
        "id": "T2pExhVoRJUe"
      }
    },
    {
      "cell_type": "code",
      "source": [
        "poem = \"Roses are red,\\nViolets are blue.\"\n",
        "print(poem)"
      ],
      "metadata": {
        "colab": {
          "base_uri": "https://localhost:8080/"
        },
        "id": "lBA4jrd1RR6_",
        "outputId": "a9d53315-b2d2-4519-a43d-f1a0ff9bd44e"
      },
      "execution_count": 21,
      "outputs": [
        {
          "output_type": "stream",
          "name": "stdout",
          "text": [
            "Roses are red,\n",
            "Violets are blue.\n"
          ]
        }
      ]
    },
    {
      "cell_type": "markdown",
      "source": [
        "\n",
        "\n",
        "5.  \\t: Represents a tab character, used for indentation or aligning text.\n",
        "\n"
      ],
      "metadata": {
        "id": "PMG43Eh3ReUb"
      }
    },
    {
      "cell_type": "code",
      "source": [
        "table = \"Name:\\tUmema\\nAge:\\t21\"\n",
        "print(table)"
      ],
      "metadata": {
        "colab": {
          "base_uri": "https://localhost:8080/"
        },
        "id": "3qup7S4nRl_x",
        "outputId": "4cf45e69-b670-449e-8e34-4ad5ba5afc77"
      },
      "execution_count": 23,
      "outputs": [
        {
          "output_type": "stream",
          "name": "stdout",
          "text": [
            "Name:\tUmema\n",
            "Age:\t21\n"
          ]
        }
      ]
    },
    {
      "cell_type": "markdown",
      "source": [
        "\n",
        "\n",
        "6.   \\r: Represents a carriage return character, used to move the cursor to the beginning of the current line.\n"
      ],
      "metadata": {
        "id": "Al-kDvAwR0-u"
      }
    },
    {
      "cell_type": "code",
      "source": [
        "progress = \"Loading...\\rPlease wait.\"\n",
        "print(progress)"
      ],
      "metadata": {
        "colab": {
          "base_uri": "https://localhost:8080/"
        },
        "id": "xSUC5hc5R6H4",
        "outputId": "d8596f2b-9932-408a-a150-e806f3049f2b"
      },
      "execution_count": 28,
      "outputs": [
        {
          "output_type": "stream",
          "name": "stdout",
          "text": [
            "Loading...\rPlease wait.\n"
          ]
        }
      ]
    },
    {
      "cell_type": "markdown",
      "source": [
        "In this specific example, when the string progress is printed, the sequence \"\\r\" causes the cursor to move back to the beginning of the line after printing \"Loading...\". As a result, when the string \"Please wait.\" is printed next, it overwrites the previously printed \"Loading...\" text.\n"
      ],
      "metadata": {
        "id": "CNKaQtTfS2AB"
      }
    }
  ]
}