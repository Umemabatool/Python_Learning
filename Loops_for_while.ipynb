{
  "nbformat": 4,
  "nbformat_minor": 0,
  "metadata": {
    "colab": {
      "provenance": []
    },
    "kernelspec": {
      "name": "python3",
      "display_name": "Python 3"
    },
    "language_info": {
      "name": "python"
    }
  },
  "cells": [
    {
      "cell_type": "markdown",
      "source": [
        "#Loops:\n",
        "Loops are control structures in programming that allow you to repeat a block of code multiple times. They are used when you want to execute a set of instructions repeatedly, either for a specific number of times or until a certain condition is met.\n",
        "\n",
        "In python, there are two loops\n",
        "\n",
        "\n",
        "1.   For Loop\n",
        "2.   While Loop\n",
        "\n",
        "##For Loop:\n",
        "\n",
        "The for loop is used when the number of iterations in known in advance.\n",
        "It iterates over a sequence of elements (e.g., a range of numbers, a list, a string) and executes a block of code for each element in the sequence."
      ],
      "metadata": {
        "id": "t1QVDNSdvW--"
      }
    },
    {
      "cell_type": "code",
      "source": [
        "color = \"Red\", \"Blue\", \"green\"\n",
        "mix_list = [1,'apple',8.4]\n",
        "for i in color:\n",
        "    print(i)\n",
        "print()\n",
        "\n",
        "for i in mix_list:\n",
        "    print(i)\n",
        "print()\n"
      ],
      "metadata": {
        "colab": {
          "base_uri": "https://localhost:8080/"
        },
        "id": "UUcbA2a2wWpQ",
        "outputId": "21090273-1a53-4395-b96d-220734551126"
      },
      "execution_count": null,
      "outputs": [
        {
          "output_type": "stream",
          "name": "stdout",
          "text": [
            "Red\n",
            "Blue\n",
            "green\n",
            "\n",
            "1\n",
            "apple\n",
            "8.4\n",
            "\n"
          ]
        }
      ]
    },
    {
      "cell_type": "markdown",
      "source": [
        "**Range Function:**\n",
        "\n",
        "The range() function is a built-in function in Python that generates a sequence of numbers. It is commonly used in conjunction with loops, particularly for loops, to iterate over a specific range of values.\n",
        "\n",
        "It generates a sequence of numbers based on the specified parameters: start, stop, and step.\n",
        "\n",
        "* **The start parameter** indicates the starting value of the sequence (inclusive). It is optional and defaults to 0 if not provided.\n",
        "\n",
        "* **The stop parameter** indicates the stopping value of the sequence (exclusive). It is required and specifies the number up to which the sequence will be generated.\n",
        "\n",
        "* **The step** parameter indicates the increment (or decrement if negative) between each consecutive value in the sequence. It is optional and defaults to 1 if not provided.\n",
        "\n",
        "**The basic syntax of the range() function is as follows:**\n",
        "\n",
        "* range(stop)\n",
        "* range(start, stop)\n",
        "* range(start, stop, step)\n"
      ],
      "metadata": {
        "id": "hbnqgTIty4O3"
      }
    },
    {
      "cell_type": "code",
      "source": [
        "# Example 1: Looping using range(stop)\n",
        "for i in range(5):\n",
        "    print(i)\n"
      ],
      "metadata": {
        "colab": {
          "base_uri": "https://localhost:8080/"
        },
        "id": "Irj2is5Qz5RO",
        "outputId": "1ba711e8-8439-4425-9767-6a1c3f8a9fce"
      },
      "execution_count": null,
      "outputs": [
        {
          "output_type": "stream",
          "name": "stdout",
          "text": [
            "0\n",
            "1\n",
            "2\n",
            "3\n",
            "4\n"
          ]
        }
      ]
    },
    {
      "cell_type": "code",
      "source": [
        "# Example 2: Looping using range(start, stop)\n",
        "for i in range(2, 8):\n",
        "    print(i)\n"
      ],
      "metadata": {
        "colab": {
          "base_uri": "https://localhost:8080/"
        },
        "id": "OR8sE-Mf0Z6-",
        "outputId": "408b070c-8dad-45f2-f491-322493f0232d"
      },
      "execution_count": null,
      "outputs": [
        {
          "output_type": "stream",
          "name": "stdout",
          "text": [
            "2\n",
            "3\n",
            "4\n",
            "5\n",
            "6\n",
            "7\n"
          ]
        }
      ]
    },
    {
      "cell_type": "code",
      "source": [
        "# Example 3: Looping using range(start, stop, step)\n",
        "for i in range(1, 10, 2):\n",
        "    print(i)\n"
      ],
      "metadata": {
        "colab": {
          "base_uri": "https://localhost:8080/"
        },
        "id": "LvkSKIdH0fhi",
        "outputId": "d82ad44d-466d-407d-c4a9-c1e8e2128f40"
      },
      "execution_count": null,
      "outputs": [
        {
          "output_type": "stream",
          "name": "stdout",
          "text": [
            "1\n",
            "3\n",
            "5\n",
            "7\n",
            "9\n"
          ]
        }
      ]
    },
    {
      "cell_type": "markdown",
      "source": [
        "##Example Programs of For Loop\n"
      ],
      "metadata": {
        "id": "UgHwHLAC1AYi"
      }
    },
    {
      "cell_type": "code",
      "source": [
        "##Multiplication Table Generator by using For loop.\n",
        "#program that takes a number as input and prints the multiplication table for that number from 1 to 10.\n",
        "\n",
        "num = int(input(\"enter a number: \"))\n",
        "for i in range(1,11):\n",
        "   print(str(num) + '\\t*\\t'+ str(i) + '\\t=\\t' + str(num*i))\n"
      ],
      "metadata": {
        "colab": {
          "base_uri": "https://localhost:8080/"
        },
        "id": "p2qc1foe1KJh",
        "outputId": "8f89e1c4-470f-4159-b83e-e8ecfa2239aa"
      },
      "execution_count": null,
      "outputs": [
        {
          "output_type": "stream",
          "name": "stdout",
          "text": [
            "enter a number: 5\n",
            "5\t*\t1\t=\t5\n",
            "5\t*\t2\t=\t10\n",
            "5\t*\t3\t=\t15\n",
            "5\t*\t4\t=\t20\n",
            "5\t*\t5\t=\t25\n",
            "5\t*\t6\t=\t30\n",
            "5\t*\t7\t=\t35\n",
            "5\t*\t8\t=\t40\n",
            "5\t*\t9\t=\t45\n",
            "5\t*\t10\t=\t50\n"
          ]
        }
      ]
    },
    {
      "cell_type": "code",
      "source": [
        "#Program to Check for Prime Numbers:\n",
        "#This program checks whether a given number is prime or not.\n",
        "\n",
        "num = int(input(\"Enter a number: \"))\n",
        "is_prime = True\n",
        "for i in range(2, num):\n",
        "    if num % i == 0:\n",
        "        is_prime = False\n",
        "        break\n",
        "if is_prime:\n",
        "    print(num, \"is a prime number\")\n",
        "else:\n",
        "    print(num, \"is not a prime number\")"
      ],
      "metadata": {
        "colab": {
          "base_uri": "https://localhost:8080/"
        },
        "id": "Xgqdq9d83mu0",
        "outputId": "401e9b30-e731-4844-c3fa-8ca3eca1ea06"
      },
      "execution_count": null,
      "outputs": [
        {
          "output_type": "stream",
          "name": "stdout",
          "text": [
            "Enter a number: 3\n",
            "3 is a prime number\n"
          ]
        }
      ]
    },
    {
      "cell_type": "code",
      "source": [
        "#Program to Find the Factorial of a Number:\n",
        "#This program calculates the factorial of a given number.\n",
        "\n",
        "num = int(input(\"Enter a number: \"))\n",
        "factorial = 1\n",
        "for i in range(1, num+1):\n",
        "    factorial *= i\n",
        "print(\"Factorial:\", factorial)"
      ],
      "metadata": {
        "colab": {
          "base_uri": "https://localhost:8080/"
        },
        "id": "gwvyku3S3xIn",
        "outputId": "e4bd02a8-2943-4c00-ff4b-ccd9e5108e0f"
      },
      "execution_count": null,
      "outputs": [
        {
          "output_type": "stream",
          "name": "stdout",
          "text": [
            "Enter a number: 5\n",
            "Factorial: 120\n"
          ]
        }
      ]
    },
    {
      "cell_type": "markdown",
      "source": [
        "##While Loop:\n",
        "The while loop repeatedly executes a block of code as long as a condition is true. The code inside the loop is executed if the condition is initially true and continues until the condition becomes false."
      ],
      "metadata": {
        "id": "d7icv_1a4oe6"
      }
    },
    {
      "cell_type": "code",
      "source": [
        "count = 0\n",
        "while count < 5:\n",
        "    print(count)\n",
        "    count += 1\n"
      ],
      "metadata": {
        "colab": {
          "base_uri": "https://localhost:8080/"
        },
        "id": "5l9xPcRb4ztk",
        "outputId": "8e31fed1-8c60-49ae-f0cf-4a8ded4fd45c"
      },
      "execution_count": null,
      "outputs": [
        {
          "output_type": "stream",
          "name": "stdout",
          "text": [
            "0\n",
            "1\n",
            "2\n",
            "3\n",
            "4\n"
          ]
        }
      ]
    },
    {
      "cell_type": "markdown",
      "source": [
        "##Example Programs of For Loop"
      ],
      "metadata": {
        "id": "wwMDO49x5KiY"
      }
    },
    {
      "cell_type": "code",
      "source": [
        "##Multiplication Table Generator by using while loop.\n",
        "#program that takes a number as input and prints the multiplication table for that number from 1 to 10.\n",
        "num = int(input(\"enter a number: \"))\n",
        "i=1\n",
        "while i <=10:\n",
        "   print(str(num) + '\\t*\\t'+ str(i) + '\\t=\\t' + str(num*i))\n",
        "   i+=1"
      ],
      "metadata": {
        "colab": {
          "base_uri": "https://localhost:8080/"
        },
        "id": "uCN1papgvxJL",
        "outputId": "6ac21968-61a4-4bb1-c81c-bb195dcd5aa1"
      },
      "execution_count": 1,
      "outputs": [
        {
          "output_type": "stream",
          "name": "stdout",
          "text": [
            "enter a number: 3\n",
            "3\t*\t1\t=\t3\n",
            "3\t*\t2\t=\t6\n",
            "3\t*\t3\t=\t9\n",
            "3\t*\t4\t=\t12\n",
            "3\t*\t5\t=\t15\n",
            "3\t*\t6\t=\t18\n",
            "3\t*\t7\t=\t21\n",
            "3\t*\t8\t=\t24\n",
            "3\t*\t9\t=\t27\n",
            "3\t*\t10\t=\t30\n"
          ]
        }
      ]
    },
    {
      "cell_type": "markdown",
      "source": [
        "**Scenario:** You are a cashier at a grocery store. You need to calculate the total bill for a customer. The customer has purchased multiple items, and you need to keep asking for the price of each item until they indicate they are done by entering a price of 0. Once they are done, you should calculate and display the total bill."
      ],
      "metadata": {
        "id": "mhB2okApxGJv"
      }
    },
    {
      "cell_type": "code",
      "source": [
        "total_bill = 0\n",
        "\n",
        "while True:\n",
        "    price = float(input(\"Enter the price of the item (enter 0 to finish): \"))\n",
        "\n",
        "    if price == 0:\n",
        "        break\n",
        "\n",
        "    total_bill += price\n",
        "\n",
        "print(\"Total bill: $\", total_bill)\n"
      ],
      "metadata": {
        "colab": {
          "base_uri": "https://localhost:8080/"
        },
        "id": "3qkVy_zlxIqA",
        "outputId": "48d1e584-4ad1-4c46-a256-2c5bf8ca1117"
      },
      "execution_count": 3,
      "outputs": [
        {
          "output_type": "stream",
          "name": "stdout",
          "text": [
            "Enter the price of the item (enter 0 to finish): 100\n",
            "Enter the price of the item (enter 0 to finish): 250.5\n",
            "Enter the price of the item (enter 0 to finish): 13.55\n",
            "Enter the price of the item (enter 0 to finish): 200\n",
            "Enter the price of the item (enter 0 to finish): 0\n",
            "Total bill: $ 564.05\n"
          ]
        }
      ]
    },
    {
      "cell_type": "markdown",
      "source": [
        "##Emulation of do-while loop:\n",
        "In Python, there is no built-in \"do-while\" loop like in some other programming languages. However, it can achieve similar functionality by using a combination of a \"while\" loop and a conditional statement.\n",
        "\n"
      ],
      "metadata": {
        "id": "uBrdd4845TeZ"
      }
    },
    {
      "cell_type": "code",
      "source": [
        "#Example to emulate do-while loop in python:\n",
        "\n",
        "count = 0\n",
        "\n",
        "while True:\n",
        "    print(\"Count:\", count)\n",
        "    count += 1\n",
        "\n",
        "    if count >= 5:\n",
        "        break\n"
      ],
      "metadata": {
        "colab": {
          "base_uri": "https://localhost:8080/"
        },
        "id": "xP0ZPajf6Ii7",
        "outputId": "ec6cdfc0-aada-4683-c24b-547eb09665b6"
      },
      "execution_count": 4,
      "outputs": [
        {
          "output_type": "stream",
          "name": "stdout",
          "text": [
            "Count: 0\n",
            "Count: 1\n",
            "Count: 2\n",
            "Count: 3\n",
            "Count: 4\n"
          ]
        }
      ]
    },
    {
      "cell_type": "markdown",
      "source": [
        "##break statement:\n",
        "The break statement is used to exit or break out of a loop prematurely.\n",
        "When encountered inside a loop, the break statement immediately terminates the loop, and the program continues executing from the next statement after the loop.\n",
        "It is commonly used when a certain condition is met, and want to stop the loop execution."
      ],
      "metadata": {
        "id": "9Brs6f3RWtmd"
      }
    },
    {
      "cell_type": "code",
      "source": [
        "for i in range(1, 10):\n",
        "    if i == 5:\n",
        "        break\n",
        "    print(i)\n"
      ],
      "metadata": {
        "colab": {
          "base_uri": "https://localhost:8080/"
        },
        "id": "GnBqItoPW-0L",
        "outputId": "606543cd-f130-4f21-d698-4830c3587fe0"
      },
      "execution_count": 1,
      "outputs": [
        {
          "output_type": "stream",
          "name": "stdout",
          "text": [
            "1\n",
            "2\n",
            "3\n",
            "4\n"
          ]
        }
      ]
    },
    {
      "cell_type": "markdown",
      "source": [
        "##continue statement:\n",
        "The continue statement is used to skip the rest of the current iteration and proceed to the next iteration of a loop.\n",
        "When encountered inside a loop, the continue statement jumps to the next iteration immediately, bypassing the remaining statements within the loop's body.\n",
        "It is useful when want to skip certain iterations based on a specific condition."
      ],
      "metadata": {
        "id": "nS5dweRrXgBr"
      }
    },
    {
      "cell_type": "code",
      "source": [
        "for i in range(1, 6):\n",
        "    if i == 3:\n",
        "        continue\n",
        "    print(i)\n"
      ],
      "metadata": {
        "colab": {
          "base_uri": "https://localhost:8080/"
        },
        "id": "sHVum1aBXyk5",
        "outputId": "69d62733-5e07-4ae3-c2c6-a1db6d4b4f46"
      },
      "execution_count": 2,
      "outputs": [
        {
          "output_type": "stream",
          "name": "stdout",
          "text": [
            "1\n",
            "2\n",
            "4\n",
            "5\n"
          ]
        }
      ]
    },
    {
      "cell_type": "markdown",
      "source": [
        "**Scenario:** You are a teacher grading multiple students' exam papers. Each student's score is stored in a list. You need to calculate the average score of all the students, but you want to skip any scores that are negative. If you encounter a negative score, you should ignore it and move on to the next student's score."
      ],
      "metadata": {
        "id": "lN5pO8nZYEse"
      }
    },
    {
      "cell_type": "code",
      "source": [
        "scores = [75, 80, -10, 90, 95, -5, 85]\n",
        "total = 0\n",
        "count = 0\n",
        "\n",
        "for score in scores:\n",
        "    if score < 0:\n",
        "        continue\n",
        "    total += score\n",
        "    count += 1\n",
        "\n",
        "average = total / count\n",
        "\n",
        "print(\"Average score:\", average)\n"
      ],
      "metadata": {
        "colab": {
          "base_uri": "https://localhost:8080/"
        },
        "id": "FKk_JX8_YRQv",
        "outputId": "a063e125-2356-4bab-fbb7-fbba389d59d0"
      },
      "execution_count": 3,
      "outputs": [
        {
          "output_type": "stream",
          "name": "stdout",
          "text": [
            "Average score: 85.0\n"
          ]
        }
      ]
    }
  ]
}