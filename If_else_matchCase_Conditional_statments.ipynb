{
  "nbformat": 4,
  "nbformat_minor": 0,
  "metadata": {
    "colab": {
      "provenance": []
    },
    "kernelspec": {
      "name": "python3",
      "display_name": "Python 3"
    },
    "language_info": {
      "name": "python"
    }
  },
  "cells": [
    {
      "cell_type": "markdown",
      "source": [
        "#Conditional Statement\n",
        "A conditional statement is a programming construct that allows to execute different blocks of code based on certain conditions.\n",
        "\n",
        "There are three commonly used types of conditional statements:\n",
        "\n",
        "*   if statement\n",
        "*   if...else statement\n",
        "*   elif statement\n",
        "\n",
        "\n",
        "1.   **if statement:**\n",
        "The if statement evaluates a condition and executes a block of code if the condition is true.\n",
        "\n"
      ],
      "metadata": {
        "id": "7kHCSnYqFddy"
      }
    },
    {
      "cell_type": "code",
      "source": [
        "x = 10\n",
        "if x > 5:\n",
        "    print(\"x is greater than 5\")\n"
      ],
      "metadata": {
        "colab": {
          "base_uri": "https://localhost:8080/"
        },
        "id": "5-2rsEw5HfyN",
        "outputId": "698490da-2b97-4b0e-b9e9-deec7c9210a7"
      },
      "execution_count": null,
      "outputs": [
        {
          "output_type": "stream",
          "name": "stdout",
          "text": [
            "x is greater than 5\n"
          ]
        }
      ]
    },
    {
      "cell_type": "markdown",
      "source": [
        "2. **The if...else statement:** allows to execute one block of code if the condition is true and another block of code if the condition is false.\n",
        "\n"
      ],
      "metadata": {
        "id": "Sf4V83ASHn_G"
      }
    },
    {
      "cell_type": "code",
      "source": [
        "x = 3\n",
        "if x > 5:\n",
        "    print(\"x is greater than 5\")\n",
        "else:\n",
        "    print(\"x is less than or equal to 5\")\n",
        "\n",
        "x = 6 # update x\n",
        "if x > 5:\n",
        "    print(\"x is greater than 5\")\n",
        "else:\n",
        "    print(\"x is less than or equal to 5\")"
      ],
      "metadata": {
        "colab": {
          "base_uri": "https://localhost:8080/"
        },
        "id": "mAigCfFOIJKh",
        "outputId": "edd4d94e-8153-4535-c2ca-c7b0fecccde4"
      },
      "execution_count": null,
      "outputs": [
        {
          "output_type": "stream",
          "name": "stdout",
          "text": [
            "x is less than or equal to 5\n",
            "x is greater than 5\n"
          ]
        }
      ]
    },
    {
      "cell_type": "markdown",
      "source": [
        "\n",
        "\n",
        "3.   **elif statement:**\n",
        "The elif statement allows to check multiple conditions sequentially. It is used in conjunction with if and else statements.\n",
        "\n"
      ],
      "metadata": {
        "id": "2Kt11k_1IjSF"
      }
    },
    {
      "cell_type": "code",
      "source": [
        "x = 7\n",
        "if x > 10:\n",
        "    print(\"x is greater than 10\")\n",
        "elif x > 5:\n",
        "    print(\"x is greater than 5 but less than or equal to 10\")\n",
        "else:\n",
        "    print(\"x is less than or equal to 5\")\n",
        "\n",
        "x = 5 # update x\n",
        "if x > 10:\n",
        "    print(\"x is greater than 10\")\n",
        "elif x > 5:\n",
        "    print(\"x is greater than 5 but less than or equal to 10\")\n",
        "else:\n",
        "    print(\"x is less than or equal to 5\")\n",
        "\n",
        "\n",
        "x = 11 # update x\n",
        "if x > 10:\n",
        "    print(\"x is greater than 10\")\n",
        "elif x > 5:\n",
        "    print(\"x is greater than 5 but less than or equal to 10\")\n",
        "else:\n",
        "    print(\"x is less than or equal to 5\")"
      ],
      "metadata": {
        "colab": {
          "base_uri": "https://localhost:8080/"
        },
        "id": "5GUdPTjqIsh1",
        "outputId": "a67e30c5-3807-402f-cc70-354c014a30af"
      },
      "execution_count": null,
      "outputs": [
        {
          "output_type": "stream",
          "name": "stdout",
          "text": [
            "x is greater than 5 but less than or equal to 10\n",
            "x is less than or equal to 5\n",
            "x is greater than 10\n"
          ]
        }
      ]
    },
    {
      "cell_type": "markdown",
      "source": [
        "**This program greets the user with 'Good morning,' 'Good afternoon,' 'Good evening,' or 'Good night,' according to the current time. This program utilizes the built-in time module in Python:**"
      ],
      "metadata": {
        "id": "vfCqASRNLmeZ"
      }
    },
    {
      "cell_type": "code",
      "source": [
        "import time\n",
        "\n",
        "current_time = input(\"Enter the current time (in 12-hour format HH:MM AM/PM): \")\n",
        "parsed_time = time.strptime(current_time, \"%I:%M %p\")\n",
        "\n",
        "current_hour = parsed_time.tm_hour\n",
        "\n",
        "if current_hour >= 5 and current_hour < 12:\n",
        "    print(\"Good Morning!\")\n",
        "elif current_hour >= 12 and current_hour < 17:\n",
        "    print(\"Good Afternoon!\")\n",
        "elif current_hour >= 17 and current_hour <23 :\n",
        "    print(\"Good Evening!\")\n",
        "else:\n",
        "    print(\"Good Night\")\n"
      ],
      "metadata": {
        "colab": {
          "base_uri": "https://localhost:8080/"
        },
        "id": "xnHvXpxi5J0V",
        "outputId": "d354cf24-15bf-4f52-91aa-6169e320ee7e"
      },
      "execution_count": null,
      "outputs": [
        {
          "output_type": "stream",
          "name": "stdout",
          "text": [
            "Enter the current time (in 12-hour format HH:MM AM/PM): 5:45 AM\n",
            "Good Morning!\n"
          ]
        }
      ]
    },
    {
      "cell_type": "markdown",
      "source": [
        "## Match Case\n",
        "In Python, the \"match\" statement (also known as \"pattern matching\") is a feature introduced in Python 3.10 that allows to simplify conditional branching based on the value of an expression. It provides a concise and readable way to handle multiple cases.\n",
        "\n",
        "Match case statements allow to compare the value of an expression against several patterns and execute the corresponding block of code for the first matching pattern. It is similar to a switch statement in other programming languages, and also in python it does not need break statment to break the block of code as the break is required in other languages while using swith statments."
      ],
      "metadata": {
        "id": "3_aml_v5DFIe"
      }
    },
    {
      "cell_type": "code",
      "source": [
        "def check_day_of_week(day):\n",
        "    match day:\n",
        "        case \"Monday\":\n",
        "            print(\"It's the start of the week.\")\n",
        "        case \"Tuesday\":\n",
        "            print(\"It's the second day of the week.\")\n",
        "        case \"Wednesday\":\n",
        "            print(\"It's the middle of the week.\")\n",
        "        case \"Thursday\":\n",
        "            print(\"It's almost the end of the week.\")\n",
        "        case \"Friday\":\n",
        "            print(\"It's the end of the week.\")\n",
        "        case \"Saturday\" | \"Sunday\":\n",
        "            print(\"It's weekend.\")\n",
        "        case _:\n",
        "            print(\"Invalid day.\")\n",
        "\n",
        "d= input(\"Enter the day: \")\n",
        "check_day_of_week(d)\n"
      ],
      "metadata": {
        "id": "wxoQdYfFDyOT",
        "colab": {
          "base_uri": "https://localhost:8080/"
        },
        "outputId": "e0cd6b66-03a2-4459-9a60-d9276346ffc9"
      },
      "execution_count": 36,
      "outputs": [
        {
          "output_type": "stream",
          "name": "stdout",
          "text": [
            "Enter the day: Saturday\n",
            "It's weekend.\n"
          ]
        }
      ]
    },
    {
      "cell_type": "markdown",
      "source": [
        "*  The \"|\" operator is used to match multiple patterns in a single case. Additionally, the \"_\" pattern acts as a catch-all for any value that doesn't match the previous patterns or we can say it is a default case."
      ],
      "metadata": {
        "id": "zwI6A3dAEbzh"
      }
    }
  ]
}